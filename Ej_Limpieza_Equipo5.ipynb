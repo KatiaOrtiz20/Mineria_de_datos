{
  "nbformat": 4,
  "nbformat_minor": 0,
  "metadata": {
    "colab": {
      "name": "Ej_Limpieza_Equipo5.ipynb",
      "provenance": [],
      "collapsed_sections": [],
      "include_colab_link": true
    },
    "kernelspec": {
      "name": "python3",
      "display_name": "Python 3"
    },
    "language_info": {
      "name": "python"
    }
  },
  "cells": [
    {
      "cell_type": "markdown",
      "metadata": {
        "id": "view-in-github",
        "colab_type": "text"
      },
      "source": [
        "<a href=\"https://colab.research.google.com/github/KatiaOrtiz20/Mineria_de_datos/blob/main/Ej_Limpieza_Equipo5.ipynb\" target=\"_parent\"><img src=\"https://colab.research.google.com/assets/colab-badge.svg\" alt=\"Open In Colab\"/></a>"
      ]
    },
    {
      "cell_type": "markdown",
      "metadata": {
        "id": "2t6w1_2l6v-T"
      },
      "source": [
        "# *CLASIFICACIÓN DE PLANTAS* \n",
        "Nombre con el que se encuentra en Kaggle:   \n",
        "Iris Species: https://www.kaggle.com/uciml/iris\n"
      ]
    },
    {
      "cell_type": "markdown",
      "metadata": {
        "id": "iHcOdcRS754y"
      },
      "source": [
        "**Importar librerias y bases de datos**"
      ]
    },
    {
      "cell_type": "code",
      "metadata": {
        "id": "FQZFjITC_QWL",
        "colab": {
          "base_uri": "https://localhost:8080/"
        },
        "outputId": "d9d8a9ac-e641-4ec5-d818-1390b6e85fdd"
      },
      "source": [
        "import pandas as pd\n",
        "import numpy \n",
        "import json\n",
        "df = pd.read_csv(\"Iris.csv\")\n",
        "\n",
        "print(df)"
      ],
      "execution_count": 7,
      "outputs": [
        {
          "output_type": "stream",
          "name": "stdout",
          "text": [
            "      Id  SepalLengthCm  ...  PetalWidthCm         Species\n",
            "0      1            5.1  ...           0.2     Iris-setosa\n",
            "1      2            4.9  ...           0.2     Iris-setosa\n",
            "2      3            4.7  ...           0.2     Iris-setosa\n",
            "3      4            4.6  ...           0.2     Iris-setosa\n",
            "4      5            5.0  ...           0.2     Iris-setosa\n",
            "..   ...            ...  ...           ...             ...\n",
            "145  146            6.7  ...           2.3  Iris-virginica\n",
            "146  147            6.3  ...           1.9  Iris-virginica\n",
            "147  148            6.5  ...           2.0  Iris-virginica\n",
            "148  149            6.2  ...           2.3  Iris-virginica\n",
            "149  150            5.9  ...           1.8  Iris-virginica\n",
            "\n",
            "[150 rows x 6 columns]\n"
          ]
        }
      ]
    },
    {
      "cell_type": "markdown",
      "metadata": {
        "id": "aHciIF-zNOhK"
      },
      "source": [
        "# Sección nueva"
      ]
    },
    {
      "cell_type": "code",
      "metadata": {
        "colab": {
          "base_uri": "https://localhost:8080/"
        },
        "id": "8JO_0grufFyg",
        "outputId": "fe291192-dc02-4189-9723-ef67786c1901"
      },
      "source": [
        "from google.colab import drive\n",
        "drive.mount('/content/drive')"
      ],
      "execution_count": null,
      "outputs": [
        {
          "output_type": "stream",
          "text": [
            "Mounted at /content/drive\n"
          ],
          "name": "stdout"
        }
      ]
    },
    {
      "cell_type": "markdown",
      "metadata": {
        "id": "6q8phALb81gZ"
      },
      "source": [
        "**Visualizar los datos.**\n"
      ]
    },
    {
      "cell_type": "code",
      "metadata": {
        "id": "LVmP-6ld_ngP",
        "colab": {
          "base_uri": "https://localhost:8080/"
        },
        "outputId": "c3f3ad0f-9866-4b4d-8829-4291afdc2e30"
      },
      "source": [
        "# Para ver cuantas filas y columnas \n",
        "a = df.shape\n",
        "print(a)\n",
        "# Para ver primeros 10 datos \n",
        "b = df.head()\n",
        "print(b)\n",
        "# Para ver los ultimos 10 datos \n",
        "c = df.tail()\n",
        "print(c)\n"
      ],
      "execution_count": 8,
      "outputs": [
        {
          "output_type": "stream",
          "name": "stdout",
          "text": [
            "(150, 6)\n",
            "   Id  SepalLengthCm  SepalWidthCm  PetalLengthCm  PetalWidthCm      Species\n",
            "0   1            5.1           3.5            1.4           0.2  Iris-setosa\n",
            "1   2            4.9           3.0            1.4           0.2  Iris-setosa\n",
            "2   3            4.7           3.2            1.3           0.2  Iris-setosa\n",
            "3   4            4.6           3.1            1.5           0.2  Iris-setosa\n",
            "4   5            5.0           3.6            1.4           0.2  Iris-setosa\n",
            "      Id  SepalLengthCm  ...  PetalWidthCm         Species\n",
            "145  146            6.7  ...           2.3  Iris-virginica\n",
            "146  147            6.3  ...           1.9  Iris-virginica\n",
            "147  148            6.5  ...           2.0  Iris-virginica\n",
            "148  149            6.2  ...           2.3  Iris-virginica\n",
            "149  150            5.9  ...           1.8  Iris-virginica\n",
            "\n",
            "[5 rows x 6 columns]\n"
          ]
        }
      ]
    },
    {
      "cell_type": "markdown",
      "metadata": {
        "id": "CiHHpsTF88wq"
      },
      "source": [
        "**Descrpcion básica de columnas (tipo, elementos, celdas vacias, etc.)**\n"
      ]
    },
    {
      "cell_type": "code",
      "metadata": {
        "id": "MG9XqS5Z_oIR",
        "colab": {
          "base_uri": "https://localhost:8080/"
        },
        "outputId": "c2b5bc48-97bc-415b-e092-72d2433ca141"
      },
      "source": [
        "\n",
        "h=df.columns\n",
        "print(h)\n",
        "e=df.dtypes\n",
        "print(e)\n",
        "f = df.isnull()\n",
        "print(f)\n",
        "g = df.isnull().sum()\n",
        "print(g)\n",
        "\n",
        "#Esto demuestra que no hay datos nulos "
      ],
      "execution_count": 9,
      "outputs": [
        {
          "output_type": "stream",
          "name": "stdout",
          "text": [
            "Index(['Id', 'SepalLengthCm', 'SepalWidthCm', 'PetalLengthCm', 'PetalWidthCm',\n",
            "       'Species'],\n",
            "      dtype='object')\n",
            "Id                 int64\n",
            "SepalLengthCm    float64\n",
            "SepalWidthCm     float64\n",
            "PetalLengthCm    float64\n",
            "PetalWidthCm     float64\n",
            "Species           object\n",
            "dtype: object\n",
            "        Id  SepalLengthCm  SepalWidthCm  PetalLengthCm  PetalWidthCm  Species\n",
            "0    False          False         False          False         False    False\n",
            "1    False          False         False          False         False    False\n",
            "2    False          False         False          False         False    False\n",
            "3    False          False         False          False         False    False\n",
            "4    False          False         False          False         False    False\n",
            "..     ...            ...           ...            ...           ...      ...\n",
            "145  False          False         False          False         False    False\n",
            "146  False          False         False          False         False    False\n",
            "147  False          False         False          False         False    False\n",
            "148  False          False         False          False         False    False\n",
            "149  False          False         False          False         False    False\n",
            "\n",
            "[150 rows x 6 columns]\n",
            "Id               0\n",
            "SepalLengthCm    0\n",
            "SepalWidthCm     0\n",
            "PetalLengthCm    0\n",
            "PetalWidthCm     0\n",
            "Species          0\n",
            "dtype: int64\n"
          ]
        }
      ]
    },
    {
      "cell_type": "markdown",
      "metadata": {
        "id": "C_iaWFvo8-JG"
      },
      "source": [
        "**El objetivo es una clasificación con los datos, asi que hay que acomodar los datos de manera que se nos facilite esta tarea.**\n"
      ]
    },
    {
      "cell_type": "code",
      "metadata": {
        "id": "mypR5pFK_pFB",
        "colab": {
          "base_uri": "https://localhost:8080/",
          "height": 419
        },
        "outputId": "1003a231-4d20-43ad-9e7e-77ab76d40ea1"
      },
      "source": [
        "\n",
        "df1=df.drop(['PetalWidthCm'],axis=1)\n",
        "df1"
      ],
      "execution_count": 10,
      "outputs": [
        {
          "output_type": "execute_result",
          "data": {
            "text/html": [
              "<div>\n",
              "<style scoped>\n",
              "    .dataframe tbody tr th:only-of-type {\n",
              "        vertical-align: middle;\n",
              "    }\n",
              "\n",
              "    .dataframe tbody tr th {\n",
              "        vertical-align: top;\n",
              "    }\n",
              "\n",
              "    .dataframe thead th {\n",
              "        text-align: right;\n",
              "    }\n",
              "</style>\n",
              "<table border=\"1\" class=\"dataframe\">\n",
              "  <thead>\n",
              "    <tr style=\"text-align: right;\">\n",
              "      <th></th>\n",
              "      <th>Id</th>\n",
              "      <th>SepalLengthCm</th>\n",
              "      <th>SepalWidthCm</th>\n",
              "      <th>PetalLengthCm</th>\n",
              "      <th>Species</th>\n",
              "    </tr>\n",
              "  </thead>\n",
              "  <tbody>\n",
              "    <tr>\n",
              "      <th>0</th>\n",
              "      <td>1</td>\n",
              "      <td>5.1</td>\n",
              "      <td>3.5</td>\n",
              "      <td>1.4</td>\n",
              "      <td>Iris-setosa</td>\n",
              "    </tr>\n",
              "    <tr>\n",
              "      <th>1</th>\n",
              "      <td>2</td>\n",
              "      <td>4.9</td>\n",
              "      <td>3.0</td>\n",
              "      <td>1.4</td>\n",
              "      <td>Iris-setosa</td>\n",
              "    </tr>\n",
              "    <tr>\n",
              "      <th>2</th>\n",
              "      <td>3</td>\n",
              "      <td>4.7</td>\n",
              "      <td>3.2</td>\n",
              "      <td>1.3</td>\n",
              "      <td>Iris-setosa</td>\n",
              "    </tr>\n",
              "    <tr>\n",
              "      <th>3</th>\n",
              "      <td>4</td>\n",
              "      <td>4.6</td>\n",
              "      <td>3.1</td>\n",
              "      <td>1.5</td>\n",
              "      <td>Iris-setosa</td>\n",
              "    </tr>\n",
              "    <tr>\n",
              "      <th>4</th>\n",
              "      <td>5</td>\n",
              "      <td>5.0</td>\n",
              "      <td>3.6</td>\n",
              "      <td>1.4</td>\n",
              "      <td>Iris-setosa</td>\n",
              "    </tr>\n",
              "    <tr>\n",
              "      <th>...</th>\n",
              "      <td>...</td>\n",
              "      <td>...</td>\n",
              "      <td>...</td>\n",
              "      <td>...</td>\n",
              "      <td>...</td>\n",
              "    </tr>\n",
              "    <tr>\n",
              "      <th>145</th>\n",
              "      <td>146</td>\n",
              "      <td>6.7</td>\n",
              "      <td>3.0</td>\n",
              "      <td>5.2</td>\n",
              "      <td>Iris-virginica</td>\n",
              "    </tr>\n",
              "    <tr>\n",
              "      <th>146</th>\n",
              "      <td>147</td>\n",
              "      <td>6.3</td>\n",
              "      <td>2.5</td>\n",
              "      <td>5.0</td>\n",
              "      <td>Iris-virginica</td>\n",
              "    </tr>\n",
              "    <tr>\n",
              "      <th>147</th>\n",
              "      <td>148</td>\n",
              "      <td>6.5</td>\n",
              "      <td>3.0</td>\n",
              "      <td>5.2</td>\n",
              "      <td>Iris-virginica</td>\n",
              "    </tr>\n",
              "    <tr>\n",
              "      <th>148</th>\n",
              "      <td>149</td>\n",
              "      <td>6.2</td>\n",
              "      <td>3.4</td>\n",
              "      <td>5.4</td>\n",
              "      <td>Iris-virginica</td>\n",
              "    </tr>\n",
              "    <tr>\n",
              "      <th>149</th>\n",
              "      <td>150</td>\n",
              "      <td>5.9</td>\n",
              "      <td>3.0</td>\n",
              "      <td>5.1</td>\n",
              "      <td>Iris-virginica</td>\n",
              "    </tr>\n",
              "  </tbody>\n",
              "</table>\n",
              "<p>150 rows × 5 columns</p>\n",
              "</div>"
            ],
            "text/plain": [
              "      Id  SepalLengthCm  SepalWidthCm  PetalLengthCm         Species\n",
              "0      1            5.1           3.5            1.4     Iris-setosa\n",
              "1      2            4.9           3.0            1.4     Iris-setosa\n",
              "2      3            4.7           3.2            1.3     Iris-setosa\n",
              "3      4            4.6           3.1            1.5     Iris-setosa\n",
              "4      5            5.0           3.6            1.4     Iris-setosa\n",
              "..   ...            ...           ...            ...             ...\n",
              "145  146            6.7           3.0            5.2  Iris-virginica\n",
              "146  147            6.3           2.5            5.0  Iris-virginica\n",
              "147  148            6.5           3.0            5.2  Iris-virginica\n",
              "148  149            6.2           3.4            5.4  Iris-virginica\n",
              "149  150            5.9           3.0            5.1  Iris-virginica\n",
              "\n",
              "[150 rows x 5 columns]"
            ]
          },
          "metadata": {},
          "execution_count": 10
        }
      ]
    },
    {
      "cell_type": "markdown",
      "metadata": {
        "id": "NY4L-DiG8_e3"
      },
      "source": [
        "**Cambiar nombres de columnas.**\n"
      ]
    },
    {
      "cell_type": "code",
      "metadata": {
        "id": "IIpUqu-E_plf",
        "colab": {
          "base_uri": "https://localhost:8080/"
        },
        "outputId": "59a467ae-7a60-4a75-8aff-231819bae5ef"
      },
      "source": [
        "dfEsp=df.rename(columns\n",
        "          = {'PetalWidthCm': 'Ancho_Petalo_Cm','Id':'Numero','SepalLengthCm':'Largo_Sepalo_Cm','SepalWidthCm':'Ancho_Sepalo_Cm','PetalLengthCm':'Largo_Petalo_Cm','Species':'Especies'})\n",
        "print(dfEsp)"
      ],
      "execution_count": 18,
      "outputs": [
        {
          "output_type": "stream",
          "name": "stdout",
          "text": [
            "     Numero  Largo_Sepalo_Cm  ...  Ancho_Petalo_Cm        Especies\n",
            "0         1              5.1  ...              0.2     Iris-setosa\n",
            "1         2              4.9  ...              0.2     Iris-setosa\n",
            "2         3              4.7  ...              0.2     Iris-setosa\n",
            "3         4              4.6  ...              0.2     Iris-setosa\n",
            "4         5              5.0  ...              0.2     Iris-setosa\n",
            "..      ...              ...  ...              ...             ...\n",
            "145     146              6.7  ...              2.3  Iris-virginica\n",
            "146     147              6.3  ...              1.9  Iris-virginica\n",
            "147     148              6.5  ...              2.0  Iris-virginica\n",
            "148     149              6.2  ...              2.3  Iris-virginica\n",
            "149     150              5.9  ...              1.8  Iris-virginica\n",
            "\n",
            "[150 rows x 6 columns]\n"
          ]
        }
      ]
    },
    {
      "cell_type": "markdown",
      "metadata": {
        "id": "-xISnw6N9E61"
      },
      "source": [
        "**Guardar otros archivos con agrupaciones.**\n"
      ]
    },
    {
      "cell_type": "code",
      "metadata": {
        "colab": {
          "base_uri": "https://localhost:8080/"
        },
        "id": "Idj8Ycdd5F6n",
        "outputId": "71d6f398-afe3-4db6-cf35-c1770c2c2aa0"
      },
      "source": [
        "dfEsp.Especies.unique() #Aqui podemos observar los datos que existen en la columna Especies"
      ],
      "execution_count": 19,
      "outputs": [
        {
          "output_type": "execute_result",
          "data": {
            "text/plain": [
              "array(['Iris-setosa', 'Iris-versicolor', 'Iris-virginica'], dtype=object)"
            ]
          },
          "metadata": {},
          "execution_count": 19
        }
      ]
    },
    {
      "cell_type": "code",
      "metadata": {
        "colab": {
          "base_uri": "https://localhost:8080/"
        },
        "id": "YKeOnDiVaSix",
        "outputId": "b905fd08-ac1d-4ece-da7c-3b5c807967e6"
      },
      "source": [
        "\n",
        "\n",
        "Especies=dfEsp[dfEsp['Especies']=='Iris-virginica']\n",
        "Especies.to_csv('Solo_EspVirginica.csv', index=False)\n",
        "print(Especies) #Aqui agrupamos todos los datos de la especie Iris Virginica"
      ],
      "execution_count": 22,
      "outputs": [
        {
          "output_type": "stream",
          "name": "stdout",
          "text": [
            "     Numero  Largo_Sepalo_Cm  ...  Ancho_Petalo_Cm        Especies\n",
            "100     101              6.3  ...              2.5  Iris-virginica\n",
            "101     102              5.8  ...              1.9  Iris-virginica\n",
            "102     103              7.1  ...              2.1  Iris-virginica\n",
            "103     104              6.3  ...              1.8  Iris-virginica\n",
            "104     105              6.5  ...              2.2  Iris-virginica\n",
            "105     106              7.6  ...              2.1  Iris-virginica\n",
            "106     107              4.9  ...              1.7  Iris-virginica\n",
            "107     108              7.3  ...              1.8  Iris-virginica\n",
            "108     109              6.7  ...              1.8  Iris-virginica\n",
            "109     110              7.2  ...              2.5  Iris-virginica\n",
            "110     111              6.5  ...              2.0  Iris-virginica\n",
            "111     112              6.4  ...              1.9  Iris-virginica\n",
            "112     113              6.8  ...              2.1  Iris-virginica\n",
            "113     114              5.7  ...              2.0  Iris-virginica\n",
            "114     115              5.8  ...              2.4  Iris-virginica\n",
            "115     116              6.4  ...              2.3  Iris-virginica\n",
            "116     117              6.5  ...              1.8  Iris-virginica\n",
            "117     118              7.7  ...              2.2  Iris-virginica\n",
            "118     119              7.7  ...              2.3  Iris-virginica\n",
            "119     120              6.0  ...              1.5  Iris-virginica\n",
            "120     121              6.9  ...              2.3  Iris-virginica\n",
            "121     122              5.6  ...              2.0  Iris-virginica\n",
            "122     123              7.7  ...              2.0  Iris-virginica\n",
            "123     124              6.3  ...              1.8  Iris-virginica\n",
            "124     125              6.7  ...              2.1  Iris-virginica\n",
            "125     126              7.2  ...              1.8  Iris-virginica\n",
            "126     127              6.2  ...              1.8  Iris-virginica\n",
            "127     128              6.1  ...              1.8  Iris-virginica\n",
            "128     129              6.4  ...              2.1  Iris-virginica\n",
            "129     130              7.2  ...              1.6  Iris-virginica\n",
            "130     131              7.4  ...              1.9  Iris-virginica\n",
            "131     132              7.9  ...              2.0  Iris-virginica\n",
            "132     133              6.4  ...              2.2  Iris-virginica\n",
            "133     134              6.3  ...              1.5  Iris-virginica\n",
            "134     135              6.1  ...              1.4  Iris-virginica\n",
            "135     136              7.7  ...              2.3  Iris-virginica\n",
            "136     137              6.3  ...              2.4  Iris-virginica\n",
            "137     138              6.4  ...              1.8  Iris-virginica\n",
            "138     139              6.0  ...              1.8  Iris-virginica\n",
            "139     140              6.9  ...              2.1  Iris-virginica\n",
            "140     141              6.7  ...              2.4  Iris-virginica\n",
            "141     142              6.9  ...              2.3  Iris-virginica\n",
            "142     143              5.8  ...              1.9  Iris-virginica\n",
            "143     144              6.8  ...              2.3  Iris-virginica\n",
            "144     145              6.7  ...              2.5  Iris-virginica\n",
            "145     146              6.7  ...              2.3  Iris-virginica\n",
            "146     147              6.3  ...              1.9  Iris-virginica\n",
            "147     148              6.5  ...              2.0  Iris-virginica\n",
            "148     149              6.2  ...              2.3  Iris-virginica\n",
            "149     150              5.9  ...              1.8  Iris-virginica\n",
            "\n",
            "[50 rows x 6 columns]\n"
          ]
        }
      ]
    },
    {
      "cell_type": "markdown",
      "metadata": {
        "id": "YbJBwglu9GEO"
      },
      "source": [
        "**Responder las preguntas de interes.**"
      ]
    },
    {
      "cell_type": "markdown",
      "metadata": {
        "id": "cNTMXDeZVD02"
      },
      "source": [
        "¿Para que me puede servir estas agrupaciones para la práctica siguiente?\n",
        "Para poder visualizar y manejar de una manera más agil los datos "
      ]
    },
    {
      "cell_type": "code",
      "metadata": {
        "id": "PXpVOakYaDgj"
      },
      "source": [
        ""
      ],
      "execution_count": null,
      "outputs": []
    }
  ]
}