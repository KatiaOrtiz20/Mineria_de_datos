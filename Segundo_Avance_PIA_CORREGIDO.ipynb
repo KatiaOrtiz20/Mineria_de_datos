{
  "nbformat": 4,
  "nbformat_minor": 0,
  "metadata": {
    "colab": {
      "name": "Segundo Avance PIA CORREGIDO.ipynb",
      "provenance": [],
      "collapsed_sections": [],
      "include_colab_link": true
    },
    "kernelspec": {
      "name": "python3",
      "display_name": "Python 3"
    },
    "language_info": {
      "name": "python"
    }
  },
  "cells": [
    {
      "cell_type": "markdown",
      "metadata": {
        "id": "view-in-github",
        "colab_type": "text"
      },
      "source": [
        "<a href=\"https://colab.research.google.com/github/KatiaOrtiz20/Mineria_de_datos/blob/main/Segundo_Avance_PIA_CORREGIDO.ipynb\" target=\"_parent\"><img src=\"https://colab.research.google.com/assets/colab-badge.svg\" alt=\"Open In Colab\"/></a>"
      ]
    },
    {
      "cell_type": "markdown",
      "metadata": {
        "id": "iTIvj7SlVeZz"
      },
      "source": [
        "## **SEGUNDO AVANCE CORREGIDO**\n",
        "\n",
        "---\n",
        "\n",
        "\n",
        "MIERCOLES 7-10PM  \n",
        "\n",
        "**EQUIPO 5**\n",
        "\n",
        "\n",
        "\n",
        "\n",
        "1798584 Martinez Cervantes Mara Anahi\n",
        "\n",
        "1799830 Ortiz Martinez Katia del Carmen\n",
        "\n",
        "1821636 Aviles Zuniga Lluvia Elizabeth\n",
        "\n",
        "1842108 Canizales Melchor Sebastian"
      ]
    },
    {
      "cell_type": "markdown",
      "metadata": {
        "id": "-amjQSrUWlm2"
      },
      "source": [
        "**1) Titulo de la base de datos.** \n",
        " \n",
        "# **Análisis de la personalidad del cliente**  \n",
        "Nombre con el que se encuentra:\n",
        "\n",
        "Customer Personality Analysis.\n",
        "\n",
        "URL: https://www.kaggle.com/imakash3011/customer-personality-analysis"
      ]
    },
    {
      "cell_type": "code",
      "metadata": {
        "colab": {
          "base_uri": "https://localhost:8080/"
        },
        "id": "fEk1EkVJ2G52",
        "outputId": "3cef393c-0a4f-40ca-d9d6-8b144a7a481c"
      },
      "source": [
        "import pandas as pd\n",
        "import numpy as np\n",
        "import json\n",
        "dc = pd.read_csv(\"/content/marketing_campaign.csv\")\n",
        "print(dc)"
      ],
      "execution_count": null,
      "outputs": [
        {
          "output_type": "stream",
          "name": "stdout",
          "text": [
            "         ID  Year_Birth   Education  ... Z_CostContact  Z_Revenue  Response\n",
            "0      5524        1957  Graduation  ...             3         11         1\n",
            "1      2174        1954  Graduation  ...             3         11         0\n",
            "2      4141        1965  Graduation  ...             3         11         0\n",
            "3      6182        1984  Graduation  ...             3         11         0\n",
            "4      5324        1981         PhD  ...             3         11         0\n",
            "...     ...         ...         ...  ...           ...        ...       ...\n",
            "2235  10870        1967  Graduation  ...             3         11         0\n",
            "2236   4001        1946         PhD  ...             3         11         0\n",
            "2237   7270        1981  Graduation  ...             3         11         0\n",
            "2238   8235        1956      Master  ...             3         11         0\n",
            "2239   9405        1954         PhD  ...             3         11         1\n",
            "\n",
            "[2240 rows x 29 columns]\n"
          ]
        }
      ]
    },
    {
      "cell_type": "markdown",
      "metadata": {
        "id": "BGSY1P67W5EP"
      },
      "source": [
        "**2) Descripción de los datos**\n"
      ]
    },
    {
      "cell_type": "markdown",
      "metadata": {
        "id": "ztiXhT04ZvDP"
      },
      "source": [
        "**CLIENTE**\n",
        "\n",
        "**ID:** identificador único del cliente  \n",
        "**Year_Birth:** año de nacimiento del cliente  \n",
        "**Education:** nivel de educación del cliente  \n",
        "**Marital_Status:** estado civil del cliente  \n",
        "**Income:** ingresos familiares anuales del cliente  \n",
        "**Kidhome:** número de niños en el hogar del cliente  \n",
        "**Teenhome:** Número de adolescentes en el hogar del cliente  \n",
        "**Dt_Customer:** fecha de inscripción del cliente en la empresa  \n",
        "**Recency:** número de días desde la última compra del cliente  \n",
        "**Complain:** 1 si el cliente se quejó en los últimos 2 años, 0 en caso contrario  \n",
        "\n",
        "**PRODUCTOS**\n",
        "\n",
        "**MntWines:** cantidad gastada en vino en los últimos 2 años  \n",
        "**MntFruits:** Cantidad gastada en frutas en los últimos 2 años  \n",
        "**MntMeatProducts:** Cantidad gastada en carne en los últimos 2 años  \n",
        "**MntFishProducts:** Cantidad gastada en pescado en los últimos 2 años  \n",
        "**MntSweetProducts:** Cantidad gastada en dulces en los últimos 2 años  \n",
        "**MntGoldProds:** cantidad gastada en oro en los últimos 2 años  \n",
        "\n",
        "**PROMOCIÓN**\n",
        "\n",
        "**NumDealsPurchases:** Número de compras realizadas con descuento  \n",
        "**AcceptedCmp1:** 1 si el cliente aceptó la oferta en la primera campaña, 0 en caso contrario  \n",
        "**AcceptedCmp2:** 1 si el cliente aceptó la oferta en la segunda campaña, 0 en caso contrario  \n",
        "**AcceptedCmp3:** 1 si el cliente aceptó la oferta en la tercera campaña, 0 en caso contrario  \n",
        "**AcceptedCmp4:** 1 si el cliente aceptó la oferta en la cuarta campaña, 0 en caso contrario  \n",
        "**AcceptedCmp5:** 1 si el cliente aceptó la oferta en la quinta campaña, 0 en caso contrario  \n",
        "**Response:** 1 si el cliente aceptó la oferta en la última campaña, 0 en caso contrario  \n",
        "\n",
        "**LUGAR**\n",
        "\n",
        "**NumWebPurchases:** número de compras realizadas a través del sitio web de la empresa  \n",
        "**NumCatalogPurchases:** número de compras realizadas mediante un catálogo  \n",
        "**NumStorePurchases:** número de compras realizadas directamente en las tiendas  \n",
        "**NumWebVisitsMonth:** número de visitas al sitio web de la empresa en el último mes"
      ]
    },
    {
      "cell_type": "markdown",
      "metadata": {
        "id": "FwtEYPdfZ7Gh"
      },
      "source": [
        "*Tipo de dato en cada columna*"
      ]
    },
    {
      "cell_type": "code",
      "metadata": {
        "colab": {
          "base_uri": "https://localhost:8080/"
        },
        "id": "-jPCYGt2Xhir",
        "outputId": "99ffa4fb-bd11-4160-e087-e15fc1cd6f41"
      },
      "source": [
        "dc.dtypes\n"
      ],
      "execution_count": null,
      "outputs": [
        {
          "output_type": "execute_result",
          "data": {
            "text/plain": [
              "ID                       int64\n",
              "Year_Birth               int64\n",
              "Education               object\n",
              "Marital_Status          object\n",
              "Income                 float64\n",
              "Kidhome                  int64\n",
              "Teenhome                 int64\n",
              "Dt_Customer             object\n",
              "Recency                  int64\n",
              "MntWines                 int64\n",
              "MntFruits                int64\n",
              "MntMeatProducts          int64\n",
              "MntFishProducts          int64\n",
              "MntSweetProducts         int64\n",
              "MntGoldProds             int64\n",
              "NumDealsPurchases        int64\n",
              "NumWebPurchases          int64\n",
              "NumCatalogPurchases      int64\n",
              "NumStorePurchases        int64\n",
              "NumWebVisitsMonth        int64\n",
              "AcceptedCmp3             int64\n",
              "AcceptedCmp4             int64\n",
              "AcceptedCmp5             int64\n",
              "AcceptedCmp1             int64\n",
              "AcceptedCmp2             int64\n",
              "Complain                 int64\n",
              "Z_CostContact            int64\n",
              "Z_Revenue                int64\n",
              "Response                 int64\n",
              "dtype: object"
            ]
          },
          "metadata": {},
          "execution_count": 20
        }
      ]
    },
    {
      "cell_type": "code",
      "metadata": {
        "colab": {
          "base_uri": "https://localhost:8080/"
        },
        "id": "oLGzIc0jafRc",
        "outputId": "484b357f-32c7-405a-963d-e586bc7600c8"
      },
      "source": [
        "a = dc.shape\n",
        "b = dc.columns\n",
        "c = dc.isnull().sum()\n",
        "\n",
        "print(\"Esta base de datos es de:\",a)\n",
        "print(\"La base de datos tiene columnas llamadas:\",b)\n",
        "print(\"Evidencia de que hay o no hay numeros nulos\",c)"
      ],
      "execution_count": null,
      "outputs": [
        {
          "output_type": "stream",
          "name": "stdout",
          "text": [
            "Esta base de datos es de: (2240, 29)\n",
            "La base de datos tiene columnas llamadas: Index(['ID', 'Year_Birth', 'Education', 'Marital_Status', 'Income', 'Kidhome',\n",
            "       'Teenhome', 'Dt_Customer', 'Recency', 'MntWines', 'MntFruits',\n",
            "       'MntMeatProducts', 'MntFishProducts', 'MntSweetProducts',\n",
            "       'MntGoldProds', 'NumDealsPurchases', 'NumWebPurchases',\n",
            "       'NumCatalogPurchases', 'NumStorePurchases', 'NumWebVisitsMonth',\n",
            "       'AcceptedCmp3', 'AcceptedCmp4', 'AcceptedCmp5', 'AcceptedCmp1',\n",
            "       'AcceptedCmp2', 'Complain', 'Z_CostContact', 'Z_Revenue', 'Response'],\n",
            "      dtype='object')\n",
            "Evidencia de que hay o no hay numeros nulos ID                      0\n",
            "Year_Birth              0\n",
            "Education               0\n",
            "Marital_Status          0\n",
            "Income                 24\n",
            "Kidhome                 0\n",
            "Teenhome                0\n",
            "Dt_Customer             0\n",
            "Recency                 0\n",
            "MntWines                0\n",
            "MntFruits               0\n",
            "MntMeatProducts         0\n",
            "MntFishProducts         0\n",
            "MntSweetProducts        0\n",
            "MntGoldProds            0\n",
            "NumDealsPurchases       0\n",
            "NumWebPurchases         0\n",
            "NumCatalogPurchases     0\n",
            "NumStorePurchases       0\n",
            "NumWebVisitsMonth       0\n",
            "AcceptedCmp3            0\n",
            "AcceptedCmp4            0\n",
            "AcceptedCmp5            0\n",
            "AcceptedCmp1            0\n",
            "AcceptedCmp2            0\n",
            "Complain                0\n",
            "Z_CostContact           0\n",
            "Z_Revenue               0\n",
            "Response                0\n",
            "dtype: int64\n"
          ]
        }
      ]
    },
    {
      "cell_type": "markdown",
      "metadata": {
        "id": "XQWIn0BKXh4y"
      },
      "source": [
        "**3) Justificación del uso de datos**  \n",
        "\n",
        "Decidimos utilizar esta base de datos porque nos llamó la atención la información recopilada sobre las preferencias de compras de los clientes dependiendo de las características que se tengan de cada uno, por ejemplo, una persona soltera no compra las mismas cosas que una persona casada y con hijos, además, se puede obtener también el tipo de clientes (caracteríticas) para cada tipo de productos y así las empresas pueden reducir su foco objetivo de clientes potenciales para el producto que ofrecen.\n",
        "\n",
        "Los beneficios que encontramos en esta base de datos es que podemos lograr el agrupar los datos dependiendo los productos de los que deseamos saber qué características tiene el cliente que lo adquiere más o al revés, dependiendo el tipo de cliente veremos cuáles son los productos que más adquieren."
      ]
    },
    {
      "cell_type": "markdown",
      "metadata": {
        "id": "Nem_OJzTXsVv"
      },
      "source": [
        "**4) Mencionar los objetivos (Principal y secundarios)**"
      ]
    },
    {
      "cell_type": "markdown",
      "metadata": {
        "id": "BxjQtC-BrUMs"
      },
      "source": [
        "PRINCIPAL:   \n",
        "  Obtener los principales productos que se consumen por un mismo cliente y emparejarlos con el de menor demanda para hacer una promoción que impulse las ventas de este último.\n",
        "\n",
        "SECUNDARIOS:  \n",
        "\n",
        "*   Encontrar las características de los clientes para mejorar el servicio.\n",
        "*   Facilitar el hallazgo del mercado enfoque que debe tener cada empresa. \n",
        "*   Obtener las características de los clientes que consumen cierto servicio.\n",
        "\n"
      ]
    },
    {
      "cell_type": "markdown",
      "metadata": {
        "id": "uydKzcXNbGef"
      },
      "source": [
        "**DESARROLLO DE LAS HERRAMIENTAS**"
      ]
    },
    {
      "cell_type": "markdown",
      "metadata": {
        "id": "9tyMZ1aQbLec"
      },
      "source": [
        "**Limpieza de los datos**"
      ]
    },
    {
      "cell_type": "markdown",
      "metadata": {
        "id": "efJjnzTVbTDK"
      },
      "source": [
        "*Mostrar los datos sin manipulación*"
      ]
    },
    {
      "cell_type": "code",
      "metadata": {
        "colab": {
          "base_uri": "https://localhost:8080/"
        },
        "id": "F3fyt1YybjG_",
        "outputId": "acdd5a8e-4ded-40e7-e4f0-0f46ac591638"
      },
      "source": [
        "import pandas as pd\n",
        "import numpy as np\n",
        "import json\n",
        "dc = pd.read_csv(\"/content/marketing_campaign.csv\")\n",
        "print(dc)"
      ],
      "execution_count": null,
      "outputs": [
        {
          "output_type": "stream",
          "name": "stdout",
          "text": [
            "         ID  Year_Birth   Education  ... Z_CostContact  Z_Revenue  Response\n",
            "0      5524        1957  Graduation  ...             3         11         1\n",
            "1      2174        1954  Graduation  ...             3         11         0\n",
            "2      4141        1965  Graduation  ...             3         11         0\n",
            "3      6182        1984  Graduation  ...             3         11         0\n",
            "4      5324        1981         PhD  ...             3         11         0\n",
            "...     ...         ...         ...  ...           ...        ...       ...\n",
            "2235  10870        1967  Graduation  ...             3         11         0\n",
            "2236   4001        1946         PhD  ...             3         11         0\n",
            "2237   7270        1981  Graduation  ...             3         11         0\n",
            "2238   8235        1956      Master  ...             3         11         0\n",
            "2239   9405        1954         PhD  ...             3         11         1\n",
            "\n",
            "[2240 rows x 29 columns]\n"
          ]
        }
      ]
    },
    {
      "cell_type": "markdown",
      "metadata": {
        "id": "YjwuWFbRcLe7"
      },
      "source": [
        "MODIFICACIÓN DE LAS COLUMNAS "
      ]
    },
    {
      "cell_type": "markdown",
      "metadata": {
        "id": "qyG2uA_cbmeV"
      },
      "source": [
        "*Eliminar columnas no deseadas*"
      ]
    },
    {
      "cell_type": "code",
      "metadata": {
        "colab": {
          "base_uri": "https://localhost:8080/"
        },
        "id": "0UBsTnnxbqbH",
        "outputId": "fcde7bf0-6d97-49b9-9ab4-c27e36e24410"
      },
      "source": [
        "dcnew=dc.drop(['AcceptedCmp5','AcceptedCmp4','AcceptedCmp3','AcceptedCmp2','AcceptedCmp1','Z_CostContact','Z_Revenue','NumWebVisitsMonth','Response','Complain','NumDealsPurchases'],axis=1)\n",
        "print(dcnew)\n",
        "#Decidimos eliminar todo lo relacionado con quejas, y reacciones a los descuentos ya que no es información relevante para nuestro trabajo"
      ],
      "execution_count": null,
      "outputs": [
        {
          "output_type": "stream",
          "name": "stdout",
          "text": [
            "         ID  Year_Birth  ... NumCatalogPurchases NumStorePurchases\n",
            "0      5524        1957  ...                  10                 4\n",
            "1      2174        1954  ...                   1                 2\n",
            "2      4141        1965  ...                   2                10\n",
            "3      6182        1984  ...                   0                 4\n",
            "4      5324        1981  ...                   3                 6\n",
            "...     ...         ...  ...                 ...               ...\n",
            "2235  10870        1967  ...                   3                 4\n",
            "2236   4001        1946  ...                   2                 5\n",
            "2237   7270        1981  ...                   3                13\n",
            "2238   8235        1956  ...                   5                10\n",
            "2239   9405        1954  ...                   1                 4\n",
            "\n",
            "[2240 rows x 18 columns]\n"
          ]
        }
      ]
    },
    {
      "cell_type": "markdown",
      "metadata": {
        "id": "odPdr97ocQAe"
      },
      "source": [
        "Decidimos crear una columna extra donde podamos ver la edad de los clientes"
      ]
    },
    {
      "cell_type": "code",
      "metadata": {
        "colab": {
          "base_uri": "https://localhost:8080/",
          "height": 326
        },
        "id": "jpVWrr4vcX4I",
        "outputId": "1de94032-a983-4182-bf22-5230e7a2c99b"
      },
      "source": [
        "from datetime import date\n",
        "\n",
        "dc_cleaned = dcnew.dropna()\n",
        "def get_age(añodenac):\n",
        "    return date.today().year - añodenac\n",
        "Edades = dc_cleaned.Year_Birth.map(get_age)\n",
        "dc_cleaned[\"Age\"] = dc_cleaned.Year_Birth.map(get_age)\n",
        "dc_cleaned.Age.describe()\n",
        "dc_cleaned.sort_values(by = 'Year_Birth').head()"
      ],
      "execution_count": null,
      "outputs": [
        {
          "output_type": "stream",
          "name": "stderr",
          "text": [
            "/usr/local/lib/python3.7/dist-packages/ipykernel_launcher.py:7: SettingWithCopyWarning: \n",
            "A value is trying to be set on a copy of a slice from a DataFrame.\n",
            "Try using .loc[row_indexer,col_indexer] = value instead\n",
            "\n",
            "See the caveats in the documentation: https://pandas.pydata.org/pandas-docs/stable/user_guide/indexing.html#returning-a-view-versus-a-copy\n",
            "  import sys\n"
          ]
        },
        {
          "output_type": "execute_result",
          "data": {
            "text/html": [
              "<div>\n",
              "<style scoped>\n",
              "    .dataframe tbody tr th:only-of-type {\n",
              "        vertical-align: middle;\n",
              "    }\n",
              "\n",
              "    .dataframe tbody tr th {\n",
              "        vertical-align: top;\n",
              "    }\n",
              "\n",
              "    .dataframe thead th {\n",
              "        text-align: right;\n",
              "    }\n",
              "</style>\n",
              "<table border=\"1\" class=\"dataframe\">\n",
              "  <thead>\n",
              "    <tr style=\"text-align: right;\">\n",
              "      <th></th>\n",
              "      <th>ID</th>\n",
              "      <th>Year_Birth</th>\n",
              "      <th>Education</th>\n",
              "      <th>Marital_Status</th>\n",
              "      <th>Income</th>\n",
              "      <th>Kidhome</th>\n",
              "      <th>Teenhome</th>\n",
              "      <th>Dt_Customer</th>\n",
              "      <th>Recency</th>\n",
              "      <th>MntWines</th>\n",
              "      <th>MntFruits</th>\n",
              "      <th>MntMeatProducts</th>\n",
              "      <th>MntFishProducts</th>\n",
              "      <th>MntSweetProducts</th>\n",
              "      <th>MntGoldProds</th>\n",
              "      <th>NumWebPurchases</th>\n",
              "      <th>NumCatalogPurchases</th>\n",
              "      <th>NumStorePurchases</th>\n",
              "      <th>Age</th>\n",
              "    </tr>\n",
              "  </thead>\n",
              "  <tbody>\n",
              "    <tr>\n",
              "      <th>239</th>\n",
              "      <td>11004</td>\n",
              "      <td>1893</td>\n",
              "      <td>2n Cycle</td>\n",
              "      <td>Single</td>\n",
              "      <td>60182.0</td>\n",
              "      <td>0</td>\n",
              "      <td>1</td>\n",
              "      <td>17/05/2014</td>\n",
              "      <td>23</td>\n",
              "      <td>8</td>\n",
              "      <td>0</td>\n",
              "      <td>5</td>\n",
              "      <td>7</td>\n",
              "      <td>0</td>\n",
              "      <td>2</td>\n",
              "      <td>1</td>\n",
              "      <td>0</td>\n",
              "      <td>2</td>\n",
              "      <td>128</td>\n",
              "    </tr>\n",
              "    <tr>\n",
              "      <th>339</th>\n",
              "      <td>1150</td>\n",
              "      <td>1899</td>\n",
              "      <td>PhD</td>\n",
              "      <td>Together</td>\n",
              "      <td>83532.0</td>\n",
              "      <td>0</td>\n",
              "      <td>0</td>\n",
              "      <td>26/09/2013</td>\n",
              "      <td>36</td>\n",
              "      <td>755</td>\n",
              "      <td>144</td>\n",
              "      <td>562</td>\n",
              "      <td>104</td>\n",
              "      <td>64</td>\n",
              "      <td>224</td>\n",
              "      <td>4</td>\n",
              "      <td>6</td>\n",
              "      <td>4</td>\n",
              "      <td>122</td>\n",
              "    </tr>\n",
              "    <tr>\n",
              "      <th>192</th>\n",
              "      <td>7829</td>\n",
              "      <td>1900</td>\n",
              "      <td>2n Cycle</td>\n",
              "      <td>Divorced</td>\n",
              "      <td>36640.0</td>\n",
              "      <td>1</td>\n",
              "      <td>0</td>\n",
              "      <td>26/09/2013</td>\n",
              "      <td>99</td>\n",
              "      <td>15</td>\n",
              "      <td>6</td>\n",
              "      <td>8</td>\n",
              "      <td>7</td>\n",
              "      <td>4</td>\n",
              "      <td>25</td>\n",
              "      <td>2</td>\n",
              "      <td>1</td>\n",
              "      <td>2</td>\n",
              "      <td>121</td>\n",
              "    </tr>\n",
              "    <tr>\n",
              "      <th>1950</th>\n",
              "      <td>6663</td>\n",
              "      <td>1940</td>\n",
              "      <td>PhD</td>\n",
              "      <td>Single</td>\n",
              "      <td>51141.0</td>\n",
              "      <td>0</td>\n",
              "      <td>0</td>\n",
              "      <td>08/07/2013</td>\n",
              "      <td>96</td>\n",
              "      <td>144</td>\n",
              "      <td>0</td>\n",
              "      <td>7</td>\n",
              "      <td>0</td>\n",
              "      <td>0</td>\n",
              "      <td>6</td>\n",
              "      <td>3</td>\n",
              "      <td>1</td>\n",
              "      <td>4</td>\n",
              "      <td>81</td>\n",
              "    </tr>\n",
              "    <tr>\n",
              "      <th>424</th>\n",
              "      <td>6932</td>\n",
              "      <td>1941</td>\n",
              "      <td>PhD</td>\n",
              "      <td>Married</td>\n",
              "      <td>93027.0</td>\n",
              "      <td>0</td>\n",
              "      <td>0</td>\n",
              "      <td>13/04/2013</td>\n",
              "      <td>77</td>\n",
              "      <td>1285</td>\n",
              "      <td>42</td>\n",
              "      <td>716</td>\n",
              "      <td>55</td>\n",
              "      <td>0</td>\n",
              "      <td>21</td>\n",
              "      <td>7</td>\n",
              "      <td>10</td>\n",
              "      <td>5</td>\n",
              "      <td>80</td>\n",
              "    </tr>\n",
              "  </tbody>\n",
              "</table>\n",
              "</div>"
            ],
            "text/plain": [
              "         ID  Year_Birth Education  ... NumCatalogPurchases  NumStorePurchases  Age\n",
              "239   11004        1893  2n Cycle  ...                   0                  2  128\n",
              "339    1150        1899       PhD  ...                   6                  4  122\n",
              "192    7829        1900  2n Cycle  ...                   1                  2  121\n",
              "1950   6663        1940       PhD  ...                   1                  4   81\n",
              "424    6932        1941       PhD  ...                  10                  5   80\n",
              "\n",
              "[5 rows x 19 columns]"
            ]
          },
          "metadata": {},
          "execution_count": 3
        }
      ]
    },
    {
      "cell_type": "markdown",
      "metadata": {
        "id": "_VoJ7qV4cbmF"
      },
      "source": [
        "De aquí podemos observar que existen 3 personas con edades arriba de los 100 años lo que es muy poco posible por lo que serán eliminados de la información"
      ]
    },
    {
      "cell_type": "code",
      "metadata": {
        "colab": {
          "base_uri": "https://localhost:8080/",
          "height": 439
        },
        "id": "p9RUegkxclNP",
        "outputId": "ad32519c-a63a-478e-f3e4-d998b3f09830"
      },
      "source": [
        "dc_cleaned.drop([239,339,192], axis=0) #Aquí eliminaremos la información de estas personas"
      ],
      "execution_count": null,
      "outputs": [
        {
          "output_type": "execute_result",
          "data": {
            "text/html": [
              "<div>\n",
              "<style scoped>\n",
              "    .dataframe tbody tr th:only-of-type {\n",
              "        vertical-align: middle;\n",
              "    }\n",
              "\n",
              "    .dataframe tbody tr th {\n",
              "        vertical-align: top;\n",
              "    }\n",
              "\n",
              "    .dataframe thead th {\n",
              "        text-align: right;\n",
              "    }\n",
              "</style>\n",
              "<table border=\"1\" class=\"dataframe\">\n",
              "  <thead>\n",
              "    <tr style=\"text-align: right;\">\n",
              "      <th></th>\n",
              "      <th>ID</th>\n",
              "      <th>Year_Birth</th>\n",
              "      <th>Education</th>\n",
              "      <th>Marital_Status</th>\n",
              "      <th>Income</th>\n",
              "      <th>Kidhome</th>\n",
              "      <th>Teenhome</th>\n",
              "      <th>Dt_Customer</th>\n",
              "      <th>Recency</th>\n",
              "      <th>MntWines</th>\n",
              "      <th>MntFruits</th>\n",
              "      <th>MntMeatProducts</th>\n",
              "      <th>MntFishProducts</th>\n",
              "      <th>MntSweetProducts</th>\n",
              "      <th>MntGoldProds</th>\n",
              "      <th>NumWebPurchases</th>\n",
              "      <th>NumCatalogPurchases</th>\n",
              "      <th>NumStorePurchases</th>\n",
              "      <th>Age</th>\n",
              "    </tr>\n",
              "  </thead>\n",
              "  <tbody>\n",
              "    <tr>\n",
              "      <th>0</th>\n",
              "      <td>5524</td>\n",
              "      <td>1957</td>\n",
              "      <td>Graduation</td>\n",
              "      <td>Single</td>\n",
              "      <td>58138.0</td>\n",
              "      <td>0</td>\n",
              "      <td>0</td>\n",
              "      <td>04/09/2012</td>\n",
              "      <td>58</td>\n",
              "      <td>635</td>\n",
              "      <td>88</td>\n",
              "      <td>546</td>\n",
              "      <td>172</td>\n",
              "      <td>88</td>\n",
              "      <td>88</td>\n",
              "      <td>8</td>\n",
              "      <td>10</td>\n",
              "      <td>4</td>\n",
              "      <td>64</td>\n",
              "    </tr>\n",
              "    <tr>\n",
              "      <th>1</th>\n",
              "      <td>2174</td>\n",
              "      <td>1954</td>\n",
              "      <td>Graduation</td>\n",
              "      <td>Single</td>\n",
              "      <td>46344.0</td>\n",
              "      <td>1</td>\n",
              "      <td>1</td>\n",
              "      <td>08/03/2014</td>\n",
              "      <td>38</td>\n",
              "      <td>11</td>\n",
              "      <td>1</td>\n",
              "      <td>6</td>\n",
              "      <td>2</td>\n",
              "      <td>1</td>\n",
              "      <td>6</td>\n",
              "      <td>1</td>\n",
              "      <td>1</td>\n",
              "      <td>2</td>\n",
              "      <td>67</td>\n",
              "    </tr>\n",
              "    <tr>\n",
              "      <th>2</th>\n",
              "      <td>4141</td>\n",
              "      <td>1965</td>\n",
              "      <td>Graduation</td>\n",
              "      <td>Together</td>\n",
              "      <td>71613.0</td>\n",
              "      <td>0</td>\n",
              "      <td>0</td>\n",
              "      <td>21/08/2013</td>\n",
              "      <td>26</td>\n",
              "      <td>426</td>\n",
              "      <td>49</td>\n",
              "      <td>127</td>\n",
              "      <td>111</td>\n",
              "      <td>21</td>\n",
              "      <td>42</td>\n",
              "      <td>8</td>\n",
              "      <td>2</td>\n",
              "      <td>10</td>\n",
              "      <td>56</td>\n",
              "    </tr>\n",
              "    <tr>\n",
              "      <th>3</th>\n",
              "      <td>6182</td>\n",
              "      <td>1984</td>\n",
              "      <td>Graduation</td>\n",
              "      <td>Together</td>\n",
              "      <td>26646.0</td>\n",
              "      <td>1</td>\n",
              "      <td>0</td>\n",
              "      <td>10/02/2014</td>\n",
              "      <td>26</td>\n",
              "      <td>11</td>\n",
              "      <td>4</td>\n",
              "      <td>20</td>\n",
              "      <td>10</td>\n",
              "      <td>3</td>\n",
              "      <td>5</td>\n",
              "      <td>2</td>\n",
              "      <td>0</td>\n",
              "      <td>4</td>\n",
              "      <td>37</td>\n",
              "    </tr>\n",
              "    <tr>\n",
              "      <th>4</th>\n",
              "      <td>5324</td>\n",
              "      <td>1981</td>\n",
              "      <td>PhD</td>\n",
              "      <td>Married</td>\n",
              "      <td>58293.0</td>\n",
              "      <td>1</td>\n",
              "      <td>0</td>\n",
              "      <td>19/01/2014</td>\n",
              "      <td>94</td>\n",
              "      <td>173</td>\n",
              "      <td>43</td>\n",
              "      <td>118</td>\n",
              "      <td>46</td>\n",
              "      <td>27</td>\n",
              "      <td>15</td>\n",
              "      <td>5</td>\n",
              "      <td>3</td>\n",
              "      <td>6</td>\n",
              "      <td>40</td>\n",
              "    </tr>\n",
              "    <tr>\n",
              "      <th>...</th>\n",
              "      <td>...</td>\n",
              "      <td>...</td>\n",
              "      <td>...</td>\n",
              "      <td>...</td>\n",
              "      <td>...</td>\n",
              "      <td>...</td>\n",
              "      <td>...</td>\n",
              "      <td>...</td>\n",
              "      <td>...</td>\n",
              "      <td>...</td>\n",
              "      <td>...</td>\n",
              "      <td>...</td>\n",
              "      <td>...</td>\n",
              "      <td>...</td>\n",
              "      <td>...</td>\n",
              "      <td>...</td>\n",
              "      <td>...</td>\n",
              "      <td>...</td>\n",
              "      <td>...</td>\n",
              "    </tr>\n",
              "    <tr>\n",
              "      <th>2235</th>\n",
              "      <td>10870</td>\n",
              "      <td>1967</td>\n",
              "      <td>Graduation</td>\n",
              "      <td>Married</td>\n",
              "      <td>61223.0</td>\n",
              "      <td>0</td>\n",
              "      <td>1</td>\n",
              "      <td>13/06/2013</td>\n",
              "      <td>46</td>\n",
              "      <td>709</td>\n",
              "      <td>43</td>\n",
              "      <td>182</td>\n",
              "      <td>42</td>\n",
              "      <td>118</td>\n",
              "      <td>247</td>\n",
              "      <td>9</td>\n",
              "      <td>3</td>\n",
              "      <td>4</td>\n",
              "      <td>54</td>\n",
              "    </tr>\n",
              "    <tr>\n",
              "      <th>2236</th>\n",
              "      <td>4001</td>\n",
              "      <td>1946</td>\n",
              "      <td>PhD</td>\n",
              "      <td>Together</td>\n",
              "      <td>64014.0</td>\n",
              "      <td>2</td>\n",
              "      <td>1</td>\n",
              "      <td>10/06/2014</td>\n",
              "      <td>56</td>\n",
              "      <td>406</td>\n",
              "      <td>0</td>\n",
              "      <td>30</td>\n",
              "      <td>0</td>\n",
              "      <td>0</td>\n",
              "      <td>8</td>\n",
              "      <td>8</td>\n",
              "      <td>2</td>\n",
              "      <td>5</td>\n",
              "      <td>75</td>\n",
              "    </tr>\n",
              "    <tr>\n",
              "      <th>2237</th>\n",
              "      <td>7270</td>\n",
              "      <td>1981</td>\n",
              "      <td>Graduation</td>\n",
              "      <td>Divorced</td>\n",
              "      <td>56981.0</td>\n",
              "      <td>0</td>\n",
              "      <td>0</td>\n",
              "      <td>25/01/2014</td>\n",
              "      <td>91</td>\n",
              "      <td>908</td>\n",
              "      <td>48</td>\n",
              "      <td>217</td>\n",
              "      <td>32</td>\n",
              "      <td>12</td>\n",
              "      <td>24</td>\n",
              "      <td>2</td>\n",
              "      <td>3</td>\n",
              "      <td>13</td>\n",
              "      <td>40</td>\n",
              "    </tr>\n",
              "    <tr>\n",
              "      <th>2238</th>\n",
              "      <td>8235</td>\n",
              "      <td>1956</td>\n",
              "      <td>Master</td>\n",
              "      <td>Together</td>\n",
              "      <td>69245.0</td>\n",
              "      <td>0</td>\n",
              "      <td>1</td>\n",
              "      <td>24/01/2014</td>\n",
              "      <td>8</td>\n",
              "      <td>428</td>\n",
              "      <td>30</td>\n",
              "      <td>214</td>\n",
              "      <td>80</td>\n",
              "      <td>30</td>\n",
              "      <td>61</td>\n",
              "      <td>6</td>\n",
              "      <td>5</td>\n",
              "      <td>10</td>\n",
              "      <td>65</td>\n",
              "    </tr>\n",
              "    <tr>\n",
              "      <th>2239</th>\n",
              "      <td>9405</td>\n",
              "      <td>1954</td>\n",
              "      <td>PhD</td>\n",
              "      <td>Married</td>\n",
              "      <td>52869.0</td>\n",
              "      <td>1</td>\n",
              "      <td>1</td>\n",
              "      <td>15/10/2012</td>\n",
              "      <td>40</td>\n",
              "      <td>84</td>\n",
              "      <td>3</td>\n",
              "      <td>61</td>\n",
              "      <td>2</td>\n",
              "      <td>1</td>\n",
              "      <td>21</td>\n",
              "      <td>3</td>\n",
              "      <td>1</td>\n",
              "      <td>4</td>\n",
              "      <td>67</td>\n",
              "    </tr>\n",
              "  </tbody>\n",
              "</table>\n",
              "<p>2213 rows × 19 columns</p>\n",
              "</div>"
            ],
            "text/plain": [
              "         ID  Year_Birth  ... NumStorePurchases Age\n",
              "0      5524        1957  ...                 4  64\n",
              "1      2174        1954  ...                 2  67\n",
              "2      4141        1965  ...                10  56\n",
              "3      6182        1984  ...                 4  37\n",
              "4      5324        1981  ...                 6  40\n",
              "...     ...         ...  ...               ...  ..\n",
              "2235  10870        1967  ...                 4  54\n",
              "2236   4001        1946  ...                 5  75\n",
              "2237   7270        1981  ...                13  40\n",
              "2238   8235        1956  ...                10  65\n",
              "2239   9405        1954  ...                 4  67\n",
              "\n",
              "[2213 rows x 19 columns]"
            ]
          },
          "metadata": {},
          "execution_count": 4
        }
      ]
    },
    {
      "cell_type": "markdown",
      "metadata": {
        "id": "_R4tK6jMcuJ2"
      },
      "source": [
        "Ahora vamos a cambiar el nombre de las columnas para un mejor entendimiento"
      ]
    },
    {
      "cell_type": "code",
      "metadata": {
        "colab": {
          "base_uri": "https://localhost:8080/"
        },
        "id": "17XYLFkdcuuA",
        "outputId": "19e9f435-f434-4179-ac62-6663ddac3ee7"
      },
      "source": [
        "dcEsp=dc_cleaned.rename(columns = {'Year_Birth': 'Año_de_Nac','Education':'Educación','Marital_Status':'Estado Civil','Income':'Ingreso Anual','Kidhome':'Niños en casa','Teenhome':'Adolescentes en casa','Dt_Customer':'Fecha de inscripción a la empresa','Recency':'#Dias desde la ult compra','MntWines':'Gasto en Vino','MntFruits':'Gasto en Fruta','MntMeatProducts':'Gasto en Carne','MntFishProducts':'Gasto en Pescado','MntSweetProducts':'Gasto en Dulces','MntGoldProds':'Gasto en Oro','NumWebPurchases':'#Compras en Linea','NumCatalogPurchases':'#Compras por Catálogo','NumStorePurchases':'#Compras en Tienda','Age':'Edad'})\n",
        "print(dcEsp)"
      ],
      "execution_count": null,
      "outputs": [
        {
          "output_type": "stream",
          "name": "stdout",
          "text": [
            "         ID  Año_de_Nac  ... #Compras en Tienda Edad\n",
            "0      5524        1957  ...                  4   64\n",
            "1      2174        1954  ...                  2   67\n",
            "2      4141        1965  ...                 10   56\n",
            "3      6182        1984  ...                  4   37\n",
            "4      5324        1981  ...                  6   40\n",
            "...     ...         ...  ...                ...  ...\n",
            "2235  10870        1967  ...                  4   54\n",
            "2236   4001        1946  ...                  5   75\n",
            "2237   7270        1981  ...                 13   40\n",
            "2238   8235        1956  ...                 10   65\n",
            "2239   9405        1954  ...                  4   67\n",
            "\n",
            "[2216 rows x 19 columns]\n"
          ]
        }
      ]
    },
    {
      "cell_type": "markdown",
      "metadata": {
        "id": "9jbzbOxhrgQ6"
      },
      "source": [
        "**Estadísticas básicas de los datos**"
      ]
    },
    {
      "cell_type": "code",
      "metadata": {
        "colab": {
          "base_uri": "https://localhost:8080/"
        },
        "id": "eEpkaX0TcxzZ",
        "outputId": "3f2e03c3-5f44-413f-8015-517b62f7b78a"
      },
      "source": [
        "dcEsp['Edad'] . mean()"
      ],
      "execution_count": null,
      "outputs": [
        {
          "output_type": "execute_result",
          "data": {
            "text/plain": [
              "52.17960288808664"
            ]
          },
          "metadata": {},
          "execution_count": 6
        }
      ]
    },
    {
      "cell_type": "markdown",
      "metadata": {
        "id": "fWhheeHwdRXJ"
      },
      "source": [
        "En esta parte analizaremos ciertos puntos que nos gustaria destacar, como primer análisis estadístico, quisimos obtener el promedio de edad de los clientes que consumen estos productos.\n",
        "Asi que al realizar un promedio de edad, obtuvimos que la edad es de 52 años. "
      ]
    },
    {
      "cell_type": "code",
      "metadata": {
        "colab": {
          "base_uri": "https://localhost:8080/"
        },
        "id": "horrUg9notxP",
        "outputId": "f416125e-8d7e-49a0-b754-b81be05ba2be"
      },
      "source": [
        "dcEsp['Edad'] . min()"
      ],
      "execution_count": null,
      "outputs": [
        {
          "output_type": "execute_result",
          "data": {
            "text/plain": [
              "25"
            ]
          },
          "metadata": {},
          "execution_count": 7
        }
      ]
    },
    {
      "cell_type": "markdown",
      "metadata": {
        "id": "fM1_T2XZwsAt"
      },
      "source": [
        "\n",
        "Sabiendo también que la edad mínima de los clientes es hasta ahora de 25 años."
      ]
    },
    {
      "cell_type": "code",
      "metadata": {
        "colab": {
          "base_uri": "https://localhost:8080/"
        },
        "id": "QY3GO_MowYDR",
        "outputId": "1f122fcb-59e0-41ff-adc3-02f2e8ff010b"
      },
      "source": [
        "print(dcEsp['Año_de_Nac'].mode())"
      ],
      "execution_count": null,
      "outputs": [
        {
          "output_type": "stream",
          "name": "stdout",
          "text": [
            "0    1976\n",
            "dtype: int64\n"
          ]
        }
      ]
    },
    {
      "cell_type": "markdown",
      "metadata": {
        "id": "9-mcLm_kwuHr"
      },
      "source": [
        "Por lo tanto el año de nacimiento de mayor repetición es el de 1976, esto nos quiere decir que la mayoría de los clientes tiene una edad de 45 años.\n",
        "Siendo así nuestro mercado enfocado a personas adultas."
      ]
    },
    {
      "cell_type": "code",
      "metadata": {
        "colab": {
          "base_uri": "https://localhost:8080/"
        },
        "id": "mL4yTP4FjJKk",
        "outputId": "3dd28f3c-1a51-4215-a485-27b726d4e305"
      },
      "source": [
        "dcEsp['#Compras por Catálogo'] . max()"
      ],
      "execution_count": null,
      "outputs": [
        {
          "output_type": "execute_result",
          "data": {
            "text/plain": [
              "28"
            ]
          },
          "metadata": {},
          "execution_count": 9
        }
      ]
    },
    {
      "cell_type": "code",
      "metadata": {
        "colab": {
          "base_uri": "https://localhost:8080/"
        },
        "id": "I9APFyKwk1pH",
        "outputId": "d03716d0-791d-4cbc-89f9-e4235b58af61"
      },
      "source": [
        "dcEsp['#Compras en Linea'] . max()"
      ],
      "execution_count": null,
      "outputs": [
        {
          "output_type": "execute_result",
          "data": {
            "text/plain": [
              "27"
            ]
          },
          "metadata": {},
          "execution_count": 10
        }
      ]
    },
    {
      "cell_type": "code",
      "metadata": {
        "colab": {
          "base_uri": "https://localhost:8080/"
        },
        "id": "oT7SZa04jMD9",
        "outputId": "1e0d3f53-3855-481f-8120-3df67aa8ddcc"
      },
      "source": [
        "dcEsp['#Compras en Tienda'] . max()"
      ],
      "execution_count": null,
      "outputs": [
        {
          "output_type": "execute_result",
          "data": {
            "text/plain": [
              "13"
            ]
          },
          "metadata": {},
          "execution_count": 13
        }
      ]
    },
    {
      "cell_type": "markdown",
      "metadata": {
        "id": "JXMFYD-GjbCW"
      },
      "source": [
        "Quisimos obtener la cantidad máxima que de compras que se han realizado tanto por catálogo como en linea y de forma fisica en la tienda, obteniendo como resultado 28 por catálogo, 27 online y 13 en la tienda, podemos notar una gran simititud y siendo el valor alto entre compras por catálogo y online, concluyendo así en que los clientes prefieren tomar otras alternativas para no acudir a las tiendas presencialmente."
      ]
    },
    {
      "cell_type": "code",
      "metadata": {
        "colab": {
          "base_uri": "https://localhost:8080/"
        },
        "id": "xfyqfkZXqhg9",
        "outputId": "e2e82dd3-905a-4fde-fd43-0708b20c183c"
      },
      "source": [
        "print(dcEsp[\"Ingreso Anual\"].describe())"
      ],
      "execution_count": null,
      "outputs": [
        {
          "output_type": "stream",
          "name": "stdout",
          "text": [
            "count      2216.000000\n",
            "mean      52247.251354\n",
            "std       25173.076661\n",
            "min        1730.000000\n",
            "25%       35303.000000\n",
            "50%       51381.500000\n",
            "75%       68522.000000\n",
            "max      666666.000000\n",
            "Name: Ingreso Anual, dtype: float64\n"
          ]
        }
      ]
    },
    {
      "cell_type": "markdown",
      "metadata": {
        "id": "-XKcIvobyw8I"
      },
      "source": [
        "En esta parte podemos observar que cuentamos con 2216 elementos no nulos, esto quiere decir que siempre se han registrado buenos ingresos por año.\n"
      ]
    },
    {
      "cell_type": "markdown",
      "metadata": {
        "id": "QCoLPwOArow7"
      },
      "source": [
        "**Gráficas**"
      ]
    },
    {
      "cell_type": "code",
      "metadata": {
        "colab": {
          "base_uri": "https://localhost:8080/",
          "height": 282
        },
        "id": "NR2PKEh_0Xun",
        "outputId": "b89363ef-43ca-4347-e272-47c8edc4b723"
      },
      "source": [
        "dcEsp['Año_de_Nac'].value_counts().sort_index().plot.line()"
      ],
      "execution_count": null,
      "outputs": [
        {
          "output_type": "execute_result",
          "data": {
            "text/plain": [
              "<matplotlib.axes._subplots.AxesSubplot at 0x7efd3e4b0450>"
            ]
          },
          "metadata": {},
          "execution_count": 88
        },
        {
          "output_type": "display_data",
          "data": {
            "image/png": "[encoded data removed]",
            "text/plain": [
              "<Figure size 432x288 with 1 Axes>"
            ]
          },
          "metadata": {
            "needs_background": "light"
          }
        }
      ]
    },
    {
      "cell_type": "markdown",
      "metadata": {
        "id": "xy-RF3C01le2"
      },
      "source": [
        "En esta grafica podemos notar la cantidad de nacimientos conforme pasa el tiempo, notando aqui que una gran cantidad de gente ha nacido entre 1970 y 1980; ya antes mensionado sabemos que el año que mas tuvo nacimientos fue 1976."
      ]
    },
    {
      "cell_type": "code",
      "metadata": {
        "colab": {
          "base_uri": "https://localhost:8080/",
          "height": 282
        },
        "id": "NQkjenFuCZKF",
        "outputId": "ff06af98-31d8-47cc-95bc-09bc8a16dfbb"
      },
      "source": [
        "dcEsp['Edad'].plot.hist(color=\"blue\")"
      ],
      "execution_count": null,
      "outputs": [
        {
          "output_type": "execute_result",
          "data": {
            "text/plain": [
              "<matplotlib.axes._subplots.AxesSubplot at 0x7efd3de8d150>"
            ]
          },
          "metadata": {},
          "execution_count": 111
        },
        {
          "output_type": "display_data",
          "data": {
            "image/png": "[encoded data removed]",
            "text/plain": [
              "<Figure size 432x288 with 1 Axes>"
            ]
          },
          "metadata": {
            "needs_background": "light"
          }
        }
      ]
    },
    {
      "cell_type": "markdown",
      "metadata": {
        "id": "gIKbWdyvCyjV"
      },
      "source": [
        "Complementando la primera grafica, aqui podemos visualizar la frecuencia de las edades de las personas, siendo de mayor cantidad las personas que tienen entre 45 y 55 años de edad."
      ]
    },
    {
      "cell_type": "code",
      "metadata": {
        "colab": {
          "base_uri": "https://localhost:8080/",
          "height": 279
        },
        "id": "MrXfm2yh5nw5",
        "outputId": "8a5015d7-723d-4fbe-d7d1-9c4ea6cd8eac"
      },
      "source": [
        "e=\n",
        "\n",
        "dcE=dcEsp[['Gasto en Vino','Gasto en Fruta','Gasto en Carne','Gasto en Pescado','Gasto en Dulces','Gasto en Oro']].copy()\n",
        "dcE.head(10).plot.bar(tacked=True)"
      ],
      "execution_count": null,
      "outputs": [
        {
          "output_type": "execute_result",
          "data": {
            "text/plain": [
              "<matplotlib.axes._subplots.AxesSubplot at 0x7efd3e01ff90>"
            ]
          },
          "metadata": {},
          "execution_count": 93
        },
        {
          "output_type": "display_data",
          "data": {
            "image/png": "[encoded data removed]",
            "text/plain": [
              "<Figure size 432x288 with 1 Axes>"
            ]
          },
          "metadata": {
            "needs_background": "light"
          }
        }
      ]
    },
    {
      "cell_type": "markdown",
      "metadata": {
        "id": "R19Y95If6ddJ"
      },
      "source": [
        "Este grafico muestra la relación del total de ventas los productos de la tienda. Podemos notar que los productos más vendidos son de vinos y carne, mientras que los menos solicitados son productos en oro y dulces.\n",
        "\n",
        "Siendo el Eje de las Y la cantidad Gastada por los productos y el Eje de las X clientes aleatorios de nuestra base de datos."
      ]
    },
    {
      "cell_type": "code",
      "metadata": {
        "colab": {
          "base_uri": "https://localhost:8080/",
          "height": 344
        },
        "id": "GwvaloUSUHpZ",
        "outputId": "54bbba66-601e-4ff8-83c0-cbe26e214b76"
      },
      "source": [
        "dcE=dcEsp[['Gasto en Vino','Gasto en Fruta','Gasto en Carne','Gasto en Pescado','Gasto en Dulces','Gasto en Oro']].copy()\n",
        "dcE.mean().plot.bar(stacked=True)\n",
        "ylabel=(\"cantidad\")"
      ],
      "execution_count": null,
      "outputs": [
        {
          "output_type": "display_data",
          "data": {
            "image/png": "[encoded data removed]",
            "text/plain": [
              "<Figure size 432x288 with 1 Axes>"
            ]
          },
          "metadata": {
            "needs_background": "light"
          }
        }
      ]
    },
    {
      "cell_type": "markdown",
      "metadata": {
        "id": "xSWBuOArUP_S"
      },
      "source": [
        "Este grafico muestra la relacion del total de ventas los productos de la tienda. Podemos notar que los productos mas vendidos son de vinos y carne, mientras que los menos solicitados son productos en oro y dulces.\n",
        "\n",
        "Siendo el eje de las X el Gasto por cada producto y el eje de las Y la cantidad de personas que lo adquirieron."
      ]
    },
    {
      "cell_type": "markdown",
      "metadata": {
        "id": "s5w_qA-tKa-l"
      },
      "source": [
        "# **CONCLUSIÓN**\n",
        "\n",
        "Logramos obtener información sobre qué tanto se venden los productos que se manejan en esta base de datos y esto nos ayudará a crear paquetes/combos para impulsar la venta en conjunto de varios productos con el fin de aumentar la venta del menos vendido. "
      ]
    }
  ]
}