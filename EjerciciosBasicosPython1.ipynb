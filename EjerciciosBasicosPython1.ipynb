{
  "nbformat": 4,
  "nbformat_minor": 0,
  "metadata": {
    "colab": {
      "name": "EjerciciosBasicosPython1.ipynb",
      "provenance": [],
      "authorship_tag": "ABX9TyNgWQZwJEwwFmHZFeqpbEJF",
      "include_colab_link": true
    },
    "kernelspec": {
      "name": "python3",
      "display_name": "Python 3"
    },
    "language_info": {
      "name": "python"
    }
  },
  "cells": [
    {
      "cell_type": "markdown",
      "metadata": {
        "id": "view-in-github",
        "colab_type": "text"
      },
      "source": [
        "<a href=\"https://colab.research.google.com/github/KatiaOrtiz20/Mineria_de_datos/blob/main/EjerciciosBasicosPython1.ipynb\" target=\"_parent\"><img src=\"https://colab.research.google.com/assets/colab-badge.svg\" alt=\"Open In Colab\"/></a>"
      ]
    },
    {
      "cell_type": "code",
      "metadata": {
        "id": "ps9V3d4_5GcI"
      },
      "source": [
        ""
      ],
      "execution_count": null,
      "outputs": []
    },
    {
      "cell_type": "markdown",
      "metadata": {
        "id": "KCwm4dg46Lne"
      },
      "source": [
        ""
      ]
    },
    {
      "cell_type": "markdown",
      "metadata": {
        "id": "ApmAyqcp6MDO"
      },
      "source": [
        "\n",
        "# EJERCICIOS\n"
      ]
    },
    {
      "cell_type": "markdown",
      "metadata": {
        "id": "EZlhvQ7E6l2T"
      },
      "source": [
        "**Ejercicio 1**"
      ]
    },
    {
      "cell_type": "markdown",
      "metadata": {
        "id": "K8xRsijW99Zy"
      },
      "source": [
        "Realiza una variable con tu matricula y realiza una secuencia de imprimir con tu nombre y tu matricula concatenados."
      ]
    },
    {
      "cell_type": "code",
      "metadata": {
        "colab": {
          "base_uri": "https://localhost:8080/"
        },
        "id": "vCXyZL_B6Oii",
        "outputId": "7a54770e-1aa7-42e4-e36c-f684a412c884"
      },
      "source": [
        "matricula = 1799830\n",
        "nombre = \"Katia\"\n",
        "print(\"Mi nombre es\",nombre,\"y mi matricula es\",matricula)"
      ],
      "execution_count": null,
      "outputs": [
        {
          "output_type": "stream",
          "text": [
            "Mi nombre es Katia y mi matricula es 1799830\n"
          ],
          "name": "stdout"
        }
      ]
    },
    {
      "cell_type": "markdown",
      "metadata": {
        "id": "7Un3Ps0x-U1m"
      },
      "source": [
        "**Ejercicio 2**"
      ]
    },
    {
      "cell_type": "markdown",
      "metadata": {
        "id": "qaWfZ-Qd-aGT"
      },
      "source": [
        "Pidiendo el input del usuario pide dos números y crea una pequeña calculadora con los operadores básicos de suma, resta, multiplicación, división, y exponente.\n",
        "\n",
        "Utilizando el loop de while"
      ]
    },
    {
      "cell_type": "code",
      "metadata": {
        "colab": {
          "base_uri": "https://localhost:8080/"
        },
        "id": "U_Ym8xjh-gK5",
        "outputId": "758d104c-75e0-435c-d02b-94136f04d143"
      },
      "source": [
        "valora = float(input(\"Ingrese el primer número: \"))\n",
        "valorb = float(input(\"Ingrese el segundo número: \"))\n",
        "op = 0\n",
        "while True:\n",
        "    print(\"\"\"\n",
        "    Escoja la acción que desea\n",
        "    \n",
        "    1) Sumar los dos números\n",
        "    2) Restar el primer número menos el segundo\n",
        "    3) Restar el segundo número menos el primero\n",
        "    4) Multiplicar los dos números\n",
        "    5) Dividir el primer número entre el segundo\n",
        "    6) Dividir el segundo número entre el primero\n",
        "    7) Elevar el primer número al segundo\n",
        "    8) Elevar el segundo número al primero\n",
        "    9) Finalizar\n",
        "    \"\"\")\n",
        "    op = int(input(\"Elige una opción: \") )  \n",
        "    if op == 1:\n",
        "        print(\" \")\n",
        "        print(\"RESULTADO: La suma es \",valora+valorb)\n",
        "    elif op == 2:\n",
        "        print(\" \")\n",
        "        print(\"RESULTADO: La resta es\",valora-valorb)\n",
        "    elif op == 3:\n",
        "        print(\" \")\n",
        "        print(\"RESULTADO: La resta es\",valorb-valora)\n",
        "    elif op == 4:\n",
        "        print(\" \")\n",
        "        print(\"RESULTADO: La multiplicación es\",valora*valorb)\n",
        "    elif op == 5:\n",
        "        print(\" \")\n",
        "        print(\"RESULTADO: La división es\",valora/valorb)\n",
        "    elif op == 6:\n",
        "        print(\" \")\n",
        "        print(\"RESULTADO: La división es\",valorb/valora)\n",
        "    elif op == 7:\n",
        "        print(\" \")\n",
        "        print(\"RESULTADO: El exponencial es\",valora**valorb)\n",
        "    elif op == 8:\n",
        "        print(\" \")\n",
        "        print(\"RESULTADO: El exponencial es\",valorb**valora) \n",
        "    elif op == 9:\n",
        "        break     \n",
        "    else:\n",
        "        print(\"Opción no válida, vuelva a escoger\")\n"
      ],
      "execution_count": null,
      "outputs": [
        {
          "output_type": "stream",
          "text": [
            "Ingrese el primer número: 2\n",
            "Ingrese el segundo número: 3\n",
            "\n",
            "    Escoja la acción que desea\n",
            "    \n",
            "    1) Sumar los dos números\n",
            "    2) Restar el primer número menos el segundo\n",
            "    3) Restar el segundo número menos el primero\n",
            "    4) Multiplicar los dos números\n",
            "    5) Dividir el primer número entre el segundo\n",
            "    6) Dividir el segundo número entre el primero\n",
            "    7) Elevar el primer número al segundo\n",
            "    8) Elevar el segundo número al primero\n",
            "    9) Finalizar\n",
            "    \n",
            "Elige una opción: 1\n",
            " \n",
            "RESULTADO: La suma de 2.0 + 3.0 es igual a 5.0\n",
            "\n",
            "    Escoja la acción que desea\n",
            "    \n",
            "    1) Sumar los dos números\n",
            "    2) Restar el primer número menos el segundo\n",
            "    3) Restar el segundo número menos el primero\n",
            "    4) Multiplicar los dos números\n",
            "    5) Dividir el primer número entre el segundo\n",
            "    6) Dividir el segundo número entre el primero\n",
            "    7) Elevar el primer número al segundo\n",
            "    8) Elevar el segundo número al primero\n",
            "    9) Finalizar\n",
            "    \n",
            "Elige una opción: 9\n"
          ],
          "name": "stdout"
        }
      ]
    },
    {
      "cell_type": "markdown",
      "metadata": {
        "id": "SeMwW-g1FNhG"
      },
      "source": [
        "**Ejercicio 3**"
      ]
    },
    {
      "cell_type": "markdown",
      "metadata": {
        "id": "LH8pct70FTNp"
      },
      "source": [
        "Con loop while o for, realiza una lista de 10 numeros multiplos de 3, y después realiza una función de loop que sume todos los números dentro del arreglo.\n"
      ]
    },
    {
      "cell_type": "code",
      "metadata": {
        "colab": {
          "base_uri": "https://localhost:8080/"
        },
        "id": "lysh_Kn0FP6-",
        "outputId": "3d02fdbf-11cd-44f5-982b-564cc2b37a6d"
      },
      "source": [
        "for i in range(3,31,3):\n",
        "    print (i)\n",
        "suma= sum(range(3,31,3))\n",
        "print(\"La suma de los multiplos de 3 es:\",suma)"
      ],
      "execution_count": null,
      "outputs": [
        {
          "output_type": "stream",
          "text": [
            "3\n",
            "6\n",
            "9\n",
            "12\n",
            "15\n",
            "18\n",
            "21\n",
            "24\n",
            "27\n",
            "30\n",
            "La suma de los multiplos de 3 es: 165\n"
          ],
          "name": "stdout"
        }
      ]
    },
    {
      "cell_type": "markdown",
      "metadata": {
        "id": "oB3rfMluGh7B"
      },
      "source": [
        "**Ejercicio 4**"
      ]
    },
    {
      "cell_type": "code",
      "metadata": {
        "id": "_7uUA34pGrhg"
      },
      "source": [
        ""
      ],
      "execution_count": null,
      "outputs": []
    },
    {
      "cell_type": "markdown",
      "metadata": {
        "id": "cL_2CPB8Gmmp"
      },
      "source": [
        "Con una función de if else, revisar si un número es par o es impar.\n"
      ]
    },
    {
      "cell_type": "code",
      "metadata": {
        "colab": {
          "base_uri": "https://localhost:8080/"
        },
        "id": "75ER-22iHE6s",
        "outputId": "b67348d3-8e90-42fc-a92b-123d4fc2cc64"
      },
      "source": [
        "num = int(input(\"Ingrese el número: \"))\n",
        "new = num%2\n",
        "\n",
        "if new == 0:\n",
        "  print(num,\"es par\")\n",
        "else:\n",
        "  print(num,\"es impar\")"
      ],
      "execution_count": null,
      "outputs": [
        {
          "output_type": "stream",
          "text": [
            "Ingrese el número: 2\n",
            "2 es par\n"
          ],
          "name": "stdout"
        }
      ]
    },
    {
      "cell_type": "markdown",
      "metadata": {
        "id": "aIeFyJchHDrY"
      },
      "source": [
        "Con una función de if else, revisar si un número es primo o no."
      ]
    },
    {
      "cell_type": "code",
      "metadata": {
        "colab": {
          "base_uri": "https://localhost:8080/"
        },
        "id": "l2zwHkkFKlq7",
        "outputId": "a2ea2a94-7483-44c5-9774-36c2010fd608"
      },
      "source": [
        "numero= int(input(\"Ingrese el número: \"))\n",
        "cont = 0\n",
        "i=2\n",
        "\n",
        "while numero>i:\n",
        "  if numero%i==0:\n",
        "    print(numero,\"no es primo\")\n",
        "    break\n",
        "  elif numero%i!=0:\n",
        "    i=i+1\n",
        "  if numero==i:\n",
        "    print(numero,\"es primo\")\n",
        "\n"
      ],
      "execution_count": null,
      "outputs": [
        {
          "output_type": "stream",
          "text": [
            "Ingrese el número: 43\n",
            "43 es primo\n"
          ],
          "name": "stdout"
        }
      ]
    },
    {
      "cell_type": "markdown",
      "metadata": {
        "id": "A5x9umbATJeD"
      },
      "source": [
        "**Ejercicio 5**"
      ]
    },
    {
      "cell_type": "markdown",
      "metadata": {
        "id": "RmJIVS3ZTNHM"
      },
      "source": [
        "Utilizando diferentes clases en python, crea una calculadora con los operadores básicos de suma, resta, multiplicación, división, y exponente."
      ]
    },
    {
      "cell_type": "code",
      "metadata": {
        "id": "FsymjBUITOBo"
      },
      "source": [
        "valora = float(input(\"Ingrese el primer número: \"))\n",
        "valorb = float(input(\"Ingrese el segundo número: \"))\n",
        "\n",
        "op = 0\n",
        "import math as m\n",
        "while True:\n",
        "    print(\"\"\"\n",
        "    Escoja la acción que desea\n",
        "    \n",
        "    1) Sumar los dos números\n",
        "    2) Restar el primer número menos el segundo\n",
        "    3) Restar el segundo número menos el primero\n",
        "    4) Multiplicar los dos números\n",
        "    5) Dividir el primer número entre el segundo\n",
        "    6) Dividir el segundo número entre el primero\n",
        "    7) Elevar el primer número al segundo\n",
        "    8) Elevar el segundo número al primero\n",
        "    9) Finalizar\n",
        "    \"\"\")\n",
        "    op = int(input(\"Elige una opción: \") \n",
        "   \n",
        "     if op == 1:\n",
        "        print(\" \")\n",
        "        print(\"RESULTADO: La suma es \",m.)\n",
        "    elif op == 2:\n",
        "        print(\" \")\n",
        "        print(\"RESULTADO: La resta es\",valora-valorb)\n",
        "    elif op == 3:\n",
        "        print(\" \")\n",
        "        print(\"RESULTADO: La resta es\",valorb-valora)\n",
        "    elif op == 4:\n",
        "        print(\" \")\n",
        "        print(\"RESULTADO: La multiplicación es\",valora*valorb)\n",
        "    elif op == 5:\n",
        "        print(\" \")\n",
        "        print(\"RESULTADO: La división es\",valora/valorb)\n",
        "    elif op == 6:\n",
        "        print(\" \")\n",
        "        print(\"RESULTADO: La división es\",valorb/valora)\n",
        "    elif op == 7:\n",
        "        print(\" \")\n",
        "        print(\"RESULTADO: El exponencial es\"math.pow(valora,valorb))\n",
        "    elif op == 8:\n",
        "        print(\" \")\n",
        "        print(\"RESULTADO: El exponencial es\",math.pow(valorb,valora)) \n",
        "    elif op == 9:\n",
        "        break     \n",
        "    else:\n",
        "        print(\"Opción no válida, vuelva a escoger\")"
      ],
      "execution_count": null,
      "outputs": []
    },
    {
      "cell_type": "markdown",
      "metadata": {
        "id": "COf96UuvrxOp"
      },
      "source": [
        "# Ejercicios con estructuras básicas de python."
      ]
    },
    {
      "cell_type": "markdown",
      "metadata": {
        "id": "XRe2oHsIr0O0"
      },
      "source": [
        "**TUPLAS**"
      ]
    },
    {
      "cell_type": "markdown",
      "metadata": {
        "id": "N5kPyjHPsBlW"
      },
      "source": [
        "Crear una variable flotante, integer, boleana y compleja e imprimir el tipo de variable que es."
      ]
    },
    {
      "cell_type": "code",
      "metadata": {
        "colab": {
          "base_uri": "https://localhost:8080/"
        },
        "id": "qdD_Oia7wg1d",
        "outputId": "255a1885-eabd-42a5-e7c9-3e5a2556573c"
      },
      "source": [
        "varflot= 3.5\n",
        "varinte=5\n",
        "varbolea= False \n",
        "varcomp= 3+5j\n",
        "print(varflot,\"<-------es una variable flotante\\n\",varinte,\"<--------es una variable integer\\n\",varbolea,\"<----es una varaible boleana\\n\",varcomp,\"<---es una variable compleja\")"
      ],
      "execution_count": null,
      "outputs": [
        {
          "output_type": "stream",
          "text": [
            "3.5 <-------es una variable flotante\n",
            " 5 <--------es una variable integer\n",
            " False <----es una varaible boleana\n",
            " (3+5j) <---es una variable compleja\n"
          ],
          "name": "stdout"
        }
      ]
    },
    {
      "cell_type": "markdown",
      "metadata": {
        "id": "rY6fUicfsEYC"
      },
      "source": [
        "Crear una tupla con valores enteros imprimir el primer y ultimo valor."
      ]
    },
    {
      "cell_type": "code",
      "metadata": {
        "colab": {
          "base_uri": "https://localhost:8080/"
        },
        "id": "OhhmxXNWz3PI",
        "outputId": "34f5fd61-11f1-429c-97ba-a2bfcfb5d57b"
      },
      "source": [
        "t= (2,7,9,15,7)\n",
        "\n",
        "print(\"El primer valor es\",t[0])\n",
        "print(\"El ultimo valor es\",t[4])"
      ],
      "execution_count": null,
      "outputs": [
        {
          "output_type": "stream",
          "text": [
            "El primer valor es 2\n",
            "El ultimo valor es 7\n"
          ],
          "name": "stdout"
        }
      ]
    },
    {
      "cell_type": "markdown",
      "metadata": {
        "id": "7IQsNzzHsGws"
      },
      "source": [
        "Añadir 3 valores de string a la tupla."
      ]
    },
    {
      "cell_type": "code",
      "metadata": {
        "colab": {
          "base_uri": "https://localhost:8080/",
          "height": 35
        },
        "id": "mHI2cw_U0yd9",
        "outputId": "510fd8b1-4be0-4dbc-e860-7872ba51fa5c"
      },
      "source": [
        "t= (2,7,\"Katia\",9,15,\"Yoongi\",7)\n",
        "\n",
        "t[2]\n"
      ],
      "execution_count": null,
      "outputs": [
        {
          "output_type": "execute_result",
          "data": {
            "application/vnd.google.colaboratory.intrinsic+json": {
              "type": "string"
            },
            "text/plain": [
              "'Katia'"
            ]
          },
          "metadata": {},
          "execution_count": 23
        }
      ]
    },
    {
      "cell_type": "markdown",
      "metadata": {
        "id": "KNv2ieQKsI_U"
      },
      "source": [
        "Verificar si una variable existe dentro de la tupla."
      ]
    },
    {
      "cell_type": "code",
      "metadata": {
        "colab": {
          "base_uri": "https://localhost:8080/"
        },
        "id": "2xu7Ov4KsLHh",
        "outputId": "553ff9e5-80a5-461e-95ad-79079fb890cf"
      },
      "source": [
        "BTS=(\"Taetae\",\"Yoongi\",\"Jiminshi\",\"Jinie\",\"Joonie\",\"Hobi\",\"Jungkookie\")\n",
        "if \"Joonie\" in BTS:\n",
        "  print(\"Si está en BTS\")\n",
        "else:\n",
        "   print(\"No está en BTS\")  \n"
      ],
      "execution_count": null,
      "outputs": [
        {
          "output_type": "stream",
          "text": [
            "Si está en BTS\n"
          ],
          "name": "stdout"
        }
      ]
    },
    {
      "cell_type": "markdown",
      "metadata": {
        "id": "YtCs8q2pJKma"
      },
      "source": [
        " **LISTAS**"
      ]
    },
    {
      "cell_type": "markdown",
      "metadata": {
        "id": "xY8gR8JGJM3j"
      },
      "source": [
        "Crear una lista con 40 elementos aleatorios enteros."
      ]
    },
    {
      "cell_type": "code",
      "metadata": {
        "colab": {
          "base_uri": "https://localhost:8080/"
        },
        "id": "hjXavF4IsmgN",
        "outputId": "dbcbc7dd-e32d-4299-e9d6-e6918b704ad0"
      },
      "source": [
        "from random import randint #Randint sirve para obtener los numeros random dentro de un intervalo\n",
        "n=0\n",
        "lista40= []\n",
        "\n",
        "while n < 40:\n",
        "    numrandom = randint(1,100) \n",
        "    if numrandom in lista40: \n",
        "        pass\n",
        "    else:\n",
        "        lista40.append(numrandom) \n",
        "        n = n + 1 \n",
        "        \n",
        "print(\"Lista:\",lista40,\"\\n\")\n"
      ],
      "execution_count": 1,
      "outputs": [
        {
          "output_type": "stream",
          "text": [
            "Lista: [4, 28, 94, 38, 61, 45, 49, 81, 83, 25, 13, 95, 56, 91, 84, 10, 96, 46, 66, 98, 93, 32, 50, 29, 20, 35, 30, 53, 62, 22, 64, 40, 31, 23, 58, 24, 47, 34, 72, 79] \n",
            "\n"
          ],
          "name": "stdout"
        }
      ]
    },
    {
      "cell_type": "markdown",
      "metadata": {
        "id": "dkN8LzQdJSHU"
      },
      "source": [
        "Con una funcion (def) crear dos listas nuevas a partir de la lista creada por numeros aleatorios, en la cual en una esten los elementos pares, y en la otra los elementos impares."
      ]
    },
    {
      "cell_type": "code",
      "metadata": {
        "colab": {
          "base_uri": "https://localhost:8080/"
        },
        "id": "Iw68uP_fvxWl",
        "outputId": "2d200751-b07f-46ed-a399-0e68f1a5ac0e"
      },
      "source": [
        "listapar = []\n",
        "listaimpar = []\n",
        "def PareseImpares(lista40):\n",
        "    i=0\n",
        "    for i in lista40:\n",
        "        if i%2 == 0:\n",
        "            listapar.append(i)\n",
        "        else:\n",
        "            listaimpar.append(i)\n",
        "    print(\"Numeros pares:   \",listapar)\n",
        "    print(\"Numeros impares: \",listaimpar)\n",
        "PareseImpares (lista40)"
      ],
      "execution_count": 4,
      "outputs": [
        {
          "output_type": "stream",
          "text": [
            "Numeros pares:    [4, 28, 94, 38, 56, 84, 10, 96, 46, 66, 98, 32, 50, 20, 30, 62, 22, 64, 40, 58, 24, 34, 72]\n",
            "Numeros impares:  [61, 45, 49, 81, 83, 25, 13, 95, 91, 93, 29, 35, 53, 31, 23, 47, 79]\n"
          ],
          "name": "stdout"
        }
      ]
    },
    {
      "cell_type": "markdown",
      "metadata": {
        "id": "iEzy7CGwJUBc"
      },
      "source": [
        "Crear dos variables con la longitud de ambas listas nuevas e imprimir las variables."
      ]
    },
    {
      "cell_type": "code",
      "metadata": {
        "colab": {
          "base_uri": "https://localhost:8080/"
        },
        "id": "g4tHv61JhxSz",
        "outputId": "8e02e56a-e449-4083-de96-4061d809660b"
      },
      "source": [
        "LongPares=len(listapar)\n",
        "LongImpares=len(listaimpar)\n",
        "print(\"La longitud de la lista de pares: \", LongPares,\"\\nLa longitud de la lista de impares: \", LongImpares)"
      ],
      "execution_count": 6,
      "outputs": [
        {
          "output_type": "stream",
          "text": [
            "La longitud de la lista de pares:  23 \n",
            "La longitud de la lista de impares:  17\n"
          ],
          "name": "stdout"
        }
      ]
    },
    {
      "cell_type": "markdown",
      "metadata": {
        "id": "VhisYIHzJWSV"
      },
      "source": [
        "Ordenar los elementos de la lista par de mayor a menor, y los de la lista impar de menor a mayor."
      ]
    },
    {
      "cell_type": "code",
      "metadata": {
        "colab": {
          "base_uri": "https://localhost:8080/"
        },
        "id": "JvOSKSBPiJyd",
        "outputId": "98d9392c-6519-4bbc-d1b0-d5cf7528e671"
      },
      "source": [
        "mayAmen= sorted(listapar,reverse=True)\n",
        "menAmay= sorted(listaimpar)\n",
        "print(\"Listas ordenadas de: \\nMayor a menor: \", mayAmen, \"\\nMenor a mayor: \", menAmay)"
      ],
      "execution_count": 9,
      "outputs": [
        {
          "output_type": "stream",
          "text": [
            "Listas ordenadas de: \n",
            "Mayor a menor:  [98, 96, 94, 84, 72, 66, 64, 62, 58, 56, 50, 46, 40, 38, 34, 32, 30, 28, 24, 22, 20, 10, 4] \n",
            "Menor a mayor:  [13, 23, 25, 29, 31, 35, 45, 47, 49, 53, 61, 79, 81, 83, 91, 93, 95]\n"
          ],
          "name": "stdout"
        }
      ]
    },
    {
      "cell_type": "markdown",
      "metadata": {
        "id": "AjURBSjYJYGn"
      },
      "source": [
        "Utilizar al menos cuatro de las funciones de listas en python en la lista original de 40 elementos."
      ]
    },
    {
      "cell_type": "code",
      "metadata": {
        "colab": {
          "base_uri": "https://localhost:8080/"
        },
        "id": "z5Z4kkpuimwc",
        "outputId": "981bcc42-bf94-468e-af67-e1e06459d0c8"
      },
      "source": [
        "print(\"Mi lista es: \",lista40)\n",
        "lista40.reverse()\n",
        "len(lista40)\n",
        "print(\"El primer termino de mi lista es:\",lista40[0])\n",
        "print(lista40.reverse())"
      ],
      "execution_count": 13,
      "outputs": [
        {
          "output_type": "stream",
          "text": [
            "Mi lista es:  [4, 28, 94, 38, 61, 45, 49, 81, 83, 25, 13, 95, 56, 91, 84, 10, 96, 46, 66, 98, 93, 32, 50, 29, 20, 35, 30, 53, 62, 22, 64, 40, 31, 23, 58, 24, 47, 34, 72, 79, 10, 10]\n",
            "El primer termino de mi lista es: 10\n",
            "None\n"
          ],
          "name": "stdout"
        }
      ]
    },
    {
      "cell_type": "markdown",
      "metadata": {
        "id": "wLPGs_8uJbDi"
      },
      "source": [
        "**DICCIONARIOS**"
      ]
    },
    {
      "cell_type": "markdown",
      "metadata": {
        "id": "a55tdhqrJf9G"
      },
      "source": [
        "Crear un diccionario de 6 personas que conozcas con su primer nombre y su edad.\n",
        "\n"
      ]
    },
    {
      "cell_type": "code",
      "metadata": {
        "colab": {
          "base_uri": "https://localhost:8080/"
        },
        "id": "YTU6ApaW8Y-5",
        "outputId": "f93ca1e8-575d-4129-b0ce-28d07f9c8dbc"
      },
      "source": [
        "diccionario = {\"Jungkook\":23, \"Taehyung\":25, \"Yoongi\":28, \"Namjoon\":27, \"Hobi\":27,\"Jin\":29}\n",
        "for nombre, edad in diccionario.items():\n",
        "    print(nombre, 'tiene', edad, 'años')"
      ],
      "execution_count": null,
      "outputs": [
        {
          "output_type": "stream",
          "text": [
            "Jungkook tiene 23 años\n",
            "Taehyung tiene 25 años\n",
            "Yoongi tiene 28 años\n",
            "Namjoon tiene 27 años\n",
            "Hobi tiene 27 años\n",
            "Jin tiene 29 años\n"
          ],
          "name": "stdout"
        }
      ]
    },
    {
      "cell_type": "markdown",
      "metadata": {
        "id": "FOeOtAIwJhmT"
      },
      "source": [
        "Crear una lista con los valores de la edad y reacomodar la lista de menor a mayor valor.\n",
        "\n"
      ]
    },
    {
      "cell_type": "code",
      "metadata": {
        "colab": {
          "base_uri": "https://localhost:8080/"
        },
        "id": "crzpsVX8jbQO",
        "outputId": "5dc324e2-9f3c-4549-9956-56bf6eb20b23"
      },
      "source": [
        "diccionario = {\"Jungkook\":23, \"Taehyung\":25, \"Yoongi\":28, \"Namjoon\":27, \"Hobi\":27,\"Jin\":29}\n",
        "ListaEdades = diccionario.values()\n",
        "ListaEdades = sorted(ListaEdades)\n",
        "print(\"Las edades de menor a mayor son: \", ListaEdades)"
      ],
      "execution_count": 15,
      "outputs": [
        {
          "output_type": "stream",
          "text": [
            "Las edades de menor a mayor son:  [23, 25, 27, 27, 28, 29]\n"
          ],
          "name": "stdout"
        }
      ]
    },
    {
      "cell_type": "markdown",
      "metadata": {
        "id": "99NQTNFgJjNX"
      },
      "source": [
        "Usando el diccionario y un loop, imprimir solo los nombres.\n",
        "\n"
      ]
    },
    {
      "cell_type": "code",
      "metadata": {
        "colab": {
          "base_uri": "https://localhost:8080/"
        },
        "id": "8Nxs4thvj2IL",
        "outputId": "28f3f36f-f176-46f9-d0c5-9d234414feda"
      },
      "source": [
        "print(\"Los nombres son:\")\n",
        "for i in diccionario:\n",
        "    print(i)"
      ],
      "execution_count": 16,
      "outputs": [
        {
          "output_type": "stream",
          "text": [
            "Los nombres son:\n",
            "Jungkook\n",
            "Taehyung\n",
            "Yoongi\n",
            "Namjoon\n",
            "Hobi\n",
            "Jin\n"
          ],
          "name": "stdout"
        }
      ]
    },
    {
      "cell_type": "markdown",
      "metadata": {
        "id": "kP7KwOm8Jkc9"
      },
      "source": [
        "Añadir dos personas nuevas a tu diccionario, incluyendo edad."
      ]
    },
    {
      "cell_type": "code",
      "metadata": {
        "colab": {
          "base_uri": "https://localhost:8080/"
        },
        "id": "e7ClwtLSkBJ-",
        "outputId": "c8a73b9d-68f9-4c33-fff1-7ba6cdbd1b55"
      },
      "source": [
        "diccionario['Jimin']=25\n",
        "diccionario['Bang PD']=45\n",
        "print(\"Diccionario\",diccionario)"
      ],
      "execution_count": 17,
      "outputs": [
        {
          "output_type": "stream",
          "text": [
            "Diccionario {'Jungkook': 23, 'Taehyung': 25, 'Yoongi': 28, 'Namjoon': 27, 'Hobi': 27, 'Jin': 29, 'Jimin': 25, 'Bang PD': 45}\n"
          ],
          "name": "stdout"
        }
      ]
    },
    {
      "cell_type": "markdown",
      "metadata": {
        "id": "616khcyGJlPx"
      },
      "source": [
        "**SETS**"
      ]
    },
    {
      "cell_type": "markdown",
      "metadata": {
        "id": "5m5sGnowJpYb"
      },
      "source": [
        "Crea un set con 100 numeros aleatorios enteros del 1 al 25.\n",
        "\n"
      ]
    },
    {
      "cell_type": "code",
      "metadata": {
        "colab": {
          "base_uri": "https://localhost:8080/"
        },
        "id": "WMzXM4mmknu5",
        "outputId": "52c57e3a-8322-4fc3-b69b-20dc21e47096"
      },
      "source": [
        "import random as r\n",
        "Set=set()\n",
        "Lista=[]\n",
        "aux=0\n",
        "for i in range(100):\n",
        "    aux=r.randint(1,25)\n",
        "    Lista.append(aux)\n",
        "Set=set(Lista)\n",
        "print(\"Set con numeros aleatorios: \", Set)"
      ],
      "execution_count": 42,
      "outputs": [
        {
          "output_type": "stream",
          "text": [
            "Set con numeros aleatorios:  {1, 2, 3, 4, 5, 6, 7, 8, 9, 10, 11, 12, 13, 14, 15, 16, 17, 18, 19, 20, 21, 22, 23, 24, 25}\n"
          ],
          "name": "stdout"
        }
      ]
    },
    {
      "cell_type": "markdown",
      "metadata": {
        "id": "PKcTTt1HJqnm"
      },
      "source": [
        "Comprueba la longitud de tu set.\n"
      ]
    },
    {
      "cell_type": "code",
      "metadata": {
        "colab": {
          "base_uri": "https://localhost:8080/"
        },
        "id": "lTx-DqVhlNpf",
        "outputId": "ff7e120a-7946-4513-c2fc-dbd73d135642"
      },
      "source": [
        "print(\"La longitud de mi set es:\", len(Set))"
      ],
      "execution_count": 43,
      "outputs": [
        {
          "output_type": "stream",
          "text": [
            "La longitud de mi set es: 25\n"
          ],
          "name": "stdout"
        }
      ]
    },
    {
      "cell_type": "markdown",
      "metadata": {
        "id": "cls7mB9QJqxJ"
      },
      "source": [
        "\n",
        "Crea una lista de 5 numeros aleatorios del 1 al 10 y comprueba si cada valor aparece en el set inicial."
      ]
    },
    {
      "cell_type": "code",
      "metadata": {
        "colab": {
          "base_uri": "https://localhost:8080/"
        },
        "id": "UlbSaXPrllCl",
        "outputId": "4d304678-00a6-45b5-f416-7a52ed3850de"
      },
      "source": [
        "list5= []\n",
        "i = 0\n",
        "while i< 5:\n",
        "    num = r.randint(1,10)\n",
        "    list5.append(num)\n",
        "    i = i+1\n",
        "i= 0\n",
        "while i< 5:\n",
        "    comparador = list5[i] in Set\n",
        "    print(\"\\n\",list5[i],\", ¿Se encuentra en el set inicial? \",comparador)\n",
        "    i = i+1"
      ],
      "execution_count": 37,
      "outputs": [
        {
          "output_type": "stream",
          "text": [
            "\n",
            " 3 , ¿Se encuentra en el set inicial?  False\n",
            "\n",
            " 7 , ¿Se encuentra en el set inicial?  True\n",
            "\n",
            " 2 , ¿Se encuentra en el set inicial?  True\n",
            "\n",
            " 1 , ¿Se encuentra en el set inicial?  True\n",
            "\n",
            " 3 , ¿Se encuentra en el set inicial?  False\n"
          ],
          "name": "stdout"
        }
      ]
    }
  ]
}