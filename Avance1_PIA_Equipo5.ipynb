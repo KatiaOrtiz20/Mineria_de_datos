{
  "nbformat": 4,
  "nbformat_minor": 0,
  "metadata": {
    "colab": {
      "name": "Avance1_PIA_Equipo5.ipynb",
      "provenance": [],
      "collapsed_sections": [],
      "include_colab_link": true
    },
    "kernelspec": {
      "name": "python3",
      "display_name": "Python 3"
    },
    "language_info": {
      "name": "python"
    }
  },
  "cells": [
    {
      "cell_type": "markdown",
      "metadata": {
        "id": "view-in-github",
        "colab_type": "text"
      },
      "source": [
        "<a href=\"https://colab.research.google.com/github/KatiaOrtiz20/Mineria_de_datos/blob/main/Avance1_PIA_Equipo5.ipynb\" target=\"_parent\"><img src=\"https://colab.research.google.com/assets/colab-badge.svg\" alt=\"Open In Colab\"/></a>"
      ]
    },
    {
      "cell_type": "markdown",
      "metadata": {
        "id": "t3tD0nkJlfS-"
      },
      "source": [
        "**PRIMER AVANCE PIA**\n",
        "\n",
        "---\n",
        "Equipo : \n",
        "\n",
        "Grupo: 02\n",
        "\n",
        "Integrantes:\n",
        "1.   1799830 Ortiz Martinez Katia del Carmen\n",
        "2.   1798584 Martinez Cervantes Mara Anahí \n",
        "\n",
        "1.   1821636 Avilés Zuñiga Lluvia Elizabeth\n",
        "2.   1842108 Canizales Melchor Sebastian \n",
        "\n",
        "\n",
        "\n",
        "---\n",
        "\n",
        "**1) Titulo de la base de datos**\n",
        "\n",
        "Nombre con el que se encuentra en la pagina encontrada:\n",
        "\n",
        "* Customer Personality Analysis \n",
        "\n",
        "URL:\n",
        "* https://www.kaggle.com/imakash3011/customer-personality-analysis\n",
        "\n",
        "\n",
        "**2) Introducción General**\n",
        "\n",
        "El análisis de personalidad del cliente es un análisis detallado de los clientes ideales de una empresa. Ayuda a una empresa a comprender mejor a sus clientes y les facilita la modificación de productos de acuerdo con las necesidades, comportamientos e inquietudes específicas de los diferentes tipos de clientes.\n",
        "\n",
        "El análisis de la personalidad del cliente ayuda a una empresa a modificar su producto en función de sus clientes objetivo de diferentes tipos de segmentos de clientes. Por ejemplo, en lugar de gastar dinero para comercializar un nuevo producto para cada cliente en la base de datos de la empresa, una empresa puede analizar qué segmento de clientes es más probable que compre el producto y luego comercializar el producto solo en ese segmento en particular.\n",
        "\n",
        "**3) Descripcion de los datos**\n",
        "\n",
        "Los tipos de datos que se pueden observar en esta base de datos son sacados de encuentas y se acomodan en una tabla con columnas y renglones, con sus nombres respectivos, describiendo al cliente. \n",
        "\n",
        "Las columnas de esta base de datos van desde los númericos, datos de fecha y texto corto, en donde el cliente describe su edad, su nivel de educación, año de nacimiento, fecha de cuando el cliente se vio involucrado con la tienda, entre otros.\n",
        "\n",
        "**4) Justificación de los datos**\n",
        "\n",
        "Esta base de datos nos llamó la atención, ya que como actuarios, en cualquier ambito al que nos dediquemos, tenemos que tener en cuenta la situción de nuestros clientes para poder dar así un mejor servicio y que este se adapte mejor a la situción del cliente.\n",
        "\n",
        "Encontramos beneficioso el trabajar esto, y no solo con estos datos, como practica para así tener un mejor conocimiento a futuro, ya que es algo que nos será de gran utilidad y que mejor que esta base de datos para implementar las actuales y futuras herramientas que vayamos aprendiendo.\n",
        "\n",
        "**5) Objetivo Final**\n",
        "\n",
        "Nuestro objetivo final es que el usuario tenga la facilidad de encontrar las características de sus clientes para saber identificar la mejor manera de tratar a sus clientes o a cierto tipo de cliente. Esta base de datos puede ser de gran utilidad a la hora de querer empezar un nugecio propio, ya que el emprendedor podrá identificar que grupo de clientes es el más a decuado para su negocio.  \n",
        "\n",
        "**6) Preguntas de Interés**\n",
        "\n",
        "*¿Qué tanto gastan los clientes de edad mayor a 50 en estos productos?*   \n",
        "*¿Qué tanta clientela menor a 30 años hay en este mercado?*\n",
        "\n",
        "**7) Parte de la programación**\n",
        "\n",
        "\n",
        "\n",
        "\n",
        "\n",
        "\n",
        "\n",
        "\n",
        "\n"
      ]
    },
    {
      "cell_type": "markdown",
      "metadata": {
        "id": "ZSeNHGO1EUBd"
      },
      "source": [
        "***Importar librerias y bases de datos***"
      ]
    },
    {
      "cell_type": "code",
      "metadata": {
        "colab": {
          "base_uri": "https://localhost:8080/"
        },
        "id": "_ptv1uxrkH3i",
        "outputId": "5adb0fad-f193-4629-dbc4-bb8683477991"
      },
      "source": [
        "import pandas as pd\n",
        "import numpy as np\n",
        "import json\n",
        "dc = pd.read_csv(\"marketing_campaign.csv\")\n",
        "print(dc)\n",
        "\n"
      ],
      "execution_count": null,
      "outputs": [
        {
          "output_type": "stream",
          "name": "stdout",
          "text": [
            "         ID  Year_Birth   Education  ... Z_CostContact  Z_Revenue  Response\n",
            "0      5524        1957  Graduation  ...             3         11         1\n",
            "1      2174        1954  Graduation  ...             3         11         0\n",
            "2      4141        1965  Graduation  ...             3         11         0\n",
            "3      6182        1984  Graduation  ...             3         11         0\n",
            "4      5324        1981         PhD  ...             3         11         0\n",
            "...     ...         ...         ...  ...           ...        ...       ...\n",
            "2235  10870        1967  Graduation  ...             3         11         0\n",
            "2236   4001        1946         PhD  ...             3         11         0\n",
            "2237   7270        1981  Graduation  ...             3         11         0\n",
            "2238   8235        1956      Master  ...             3         11         0\n",
            "2239   9405        1954         PhD  ...             3         11         1\n",
            "\n",
            "[2240 rows x 29 columns]\n"
          ]
        }
      ]
    },
    {
      "cell_type": "markdown",
      "metadata": {
        "id": "6tV6bB6ZESdP"
      },
      "source": [
        "***Vizualización de los datos***"
      ]
    },
    {
      "cell_type": "code",
      "metadata": {
        "colab": {
          "base_uri": "https://localhost:8080/"
        },
        "id": "oiR88_XtErlR",
        "outputId": "0464caf0-f98a-45ce-843e-8a742fc6edec"
      },
      "source": [
        "a = dc.shape\n",
        "print(\"Esta base de datos es de:\",a)\n"
      ],
      "execution_count": null,
      "outputs": [
        {
          "output_type": "stream",
          "name": "stdout",
          "text": [
            "Esta base de datos es de: (2240, 29)\n"
          ]
        }
      ]
    },
    {
      "cell_type": "code",
      "metadata": {
        "colab": {
          "base_uri": "https://localhost:8080/"
        },
        "id": "SCEwLZaYG5kt",
        "outputId": "09ab97fa-af81-4106-d429-47c9c53710ae"
      },
      "source": [
        "b = dc.columns\n",
        "print(\"La base de datos tiene columnas llamadas:\",b)\n"
      ],
      "execution_count": null,
      "outputs": [
        {
          "output_type": "stream",
          "name": "stdout",
          "text": [
            "La base de datos tiene columnas llamadas: Index(['ID', 'Year_Birth', 'Education', 'Marital_Status', 'Income', 'Kidhome',\n",
            "       'Teenhome', 'Dt_Customer', 'Recency', 'MntWines', 'MntFruits',\n",
            "       'MntMeatProducts', 'MntFishProducts', 'MntSweetProducts',\n",
            "       'MntGoldProds', 'NumDealsPurchases', 'NumWebPurchases',\n",
            "       'NumCatalogPurchases', 'NumStorePurchases', 'NumWebVisitsMonth',\n",
            "       'AcceptedCmp3', 'AcceptedCmp4', 'AcceptedCmp5', 'AcceptedCmp1',\n",
            "       'AcceptedCmp2', 'Complain', 'Z_CostContact', 'Z_Revenue', 'Response'],\n",
            "      dtype='object')\n"
          ]
        }
      ]
    },
    {
      "cell_type": "markdown",
      "metadata": {
        "id": "iICpZlD2BcXn"
      },
      "source": [
        "***Tipo de dato de cada columna.***"
      ]
    },
    {
      "cell_type": "code",
      "metadata": {
        "colab": {
          "base_uri": "https://localhost:8080/"
        },
        "id": "CBXv6CHCBcv6",
        "outputId": "3e13b043-0f46-4410-84f3-35192b82eb0e"
      },
      "source": [
        "dc.dtypes"
      ],
      "execution_count": null,
      "outputs": [
        {
          "output_type": "execute_result",
          "data": {
            "text/plain": [
              "ID                       int64\n",
              "Year_Birth               int64\n",
              "Education               object\n",
              "Marital_Status          object\n",
              "Income                 float64\n",
              "Kidhome                  int64\n",
              "Teenhome                 int64\n",
              "Dt_Customer             object\n",
              "Recency                  int64\n",
              "MntWines                 int64\n",
              "MntFruits                int64\n",
              "MntMeatProducts          int64\n",
              "MntFishProducts          int64\n",
              "MntSweetProducts         int64\n",
              "MntGoldProds             int64\n",
              "NumDealsPurchases        int64\n",
              "NumWebPurchases          int64\n",
              "NumCatalogPurchases      int64\n",
              "NumStorePurchases        int64\n",
              "NumWebVisitsMonth        int64\n",
              "AcceptedCmp3             int64\n",
              "AcceptedCmp4             int64\n",
              "AcceptedCmp5             int64\n",
              "AcceptedCmp1             int64\n",
              "AcceptedCmp2             int64\n",
              "Complain                 int64\n",
              "Z_CostContact            int64\n",
              "Z_Revenue                int64\n",
              "Response                 int64\n",
              "dtype: object"
            ]
          },
          "metadata": {},
          "execution_count": 12
        }
      ]
    },
    {
      "cell_type": "code",
      "metadata": {
        "colab": {
          "base_uri": "https://localhost:8080/"
        },
        "id": "XyEEbH4RG8JP",
        "outputId": "e436d221-4417-44e2-e44b-ffda85349afa"
      },
      "source": [
        "c = dc.isnull().sum()\n",
        "print(\"Evidencia de que hay o no hay numeros nulos\",c)"
      ],
      "execution_count": null,
      "outputs": [
        {
          "output_type": "stream",
          "name": "stdout",
          "text": [
            "Evidencia de que hay o no hay numeros nulos ID                      0\n",
            "Year_Birth              0\n",
            "Education               0\n",
            "Marital_Status          0\n",
            "Income                 24\n",
            "Kidhome                 0\n",
            "Teenhome                0\n",
            "Dt_Customer             0\n",
            "Recency                 0\n",
            "MntWines                0\n",
            "MntFruits               0\n",
            "MntMeatProducts         0\n",
            "MntFishProducts         0\n",
            "MntSweetProducts        0\n",
            "MntGoldProds            0\n",
            "NumDealsPurchases       0\n",
            "NumWebPurchases         0\n",
            "NumCatalogPurchases     0\n",
            "NumStorePurchases       0\n",
            "NumWebVisitsMonth       0\n",
            "AcceptedCmp3            0\n",
            "AcceptedCmp4            0\n",
            "AcceptedCmp5            0\n",
            "AcceptedCmp1            0\n",
            "AcceptedCmp2            0\n",
            "Complain                0\n",
            "Z_CostContact           0\n",
            "Z_Revenue               0\n",
            "Response                0\n",
            "dtype: int64\n"
          ]
        }
      ]
    },
    {
      "cell_type": "markdown",
      "metadata": {
        "id": "qG0Ayr1iHDcL"
      },
      "source": [
        "***Organización de los datos***"
      ]
    },
    {
      "cell_type": "code",
      "metadata": {
        "colab": {
          "base_uri": "https://localhost:8080/"
        },
        "id": "CnV6LmDiHPJ1",
        "outputId": "4c711ea3-8ac8-4071-98f1-63fe4668f986"
      },
      "source": [
        "dcnew=dc.drop(['AcceptedCmp5','AcceptedCmp4','AcceptedCmp3','AcceptedCmp2','AcceptedCmp1','Z_CostContact','Z_Revenue','NumWebVisitsMonth','Response','Complain','NumDealsPurchases'],axis=1)\n",
        "print(dcnew)\n",
        "#Decidimos todo lo relacionado con quejas, y reacciones a los descuentos ya que no es información \n",
        "#relevante para nuestro trabajo"
      ],
      "execution_count": null,
      "outputs": [
        {
          "output_type": "stream",
          "name": "stdout",
          "text": [
            "         ID  Year_Birth  ... NumCatalogPurchases NumStorePurchases\n",
            "0      5524        1957  ...                  10                 4\n",
            "1      2174        1954  ...                   1                 2\n",
            "2      4141        1965  ...                   2                10\n",
            "3      6182        1984  ...                   0                 4\n",
            "4      5324        1981  ...                   3                 6\n",
            "...     ...         ...  ...                 ...               ...\n",
            "2235  10870        1967  ...                   3                 4\n",
            "2236   4001        1946  ...                   2                 5\n",
            "2237   7270        1981  ...                   3                13\n",
            "2238   8235        1956  ...                   5                10\n",
            "2239   9405        1954  ...                   1                 4\n",
            "\n",
            "[2240 rows x 18 columns]\n"
          ]
        }
      ]
    },
    {
      "cell_type": "markdown",
      "metadata": {
        "id": "rYLFaCAzIxVm"
      },
      "source": [
        "***Cambiar nombres de columnas.***"
      ]
    },
    {
      "cell_type": "markdown",
      "metadata": {
        "id": "C4AQUvEoMZ-i"
      },
      "source": [
        "Decidimos crear una columna extra donde podamos ver la edad de los clientes"
      ]
    },
    {
      "cell_type": "code",
      "metadata": {
        "colab": {
          "base_uri": "https://localhost:8080/",
          "height": 326
        },
        "id": "rMdxxcpgMiB1",
        "outputId": "a421e139-5e48-46f5-e6dc-5d641eed48d6"
      },
      "source": [
        "from datetime import date\n",
        "\n",
        "dc_cleaned = dcnew.dropna()\n",
        "def get_age(añodenac):\n",
        "    return date.today().year - añodenac\n",
        "Edades = dc_cleaned.Year_Birth.map(get_age)\n",
        "dc_cleaned[\"Age\"] = dc_cleaned.Year_Birth.map(get_age)\n",
        "dc_cleaned.Age.describe()\n",
        "dc_cleaned.sort_values(by = 'Year_Birth').head()"
      ],
      "execution_count": null,
      "outputs": [
        {
          "output_type": "stream",
          "name": "stderr",
          "text": [
            "/usr/local/lib/python3.7/dist-packages/ipykernel_launcher.py:7: SettingWithCopyWarning: \n",
            "A value is trying to be set on a copy of a slice from a DataFrame.\n",
            "Try using .loc[row_indexer,col_indexer] = value instead\n",
            "\n",
            "See the caveats in the documentation: https://pandas.pydata.org/pandas-docs/stable/user_guide/indexing.html#returning-a-view-versus-a-copy\n",
            "  import sys\n"
          ]
        },
        {
          "output_type": "execute_result",
          "data": {
            "text/html": [
              "<div>\n",
              "<style scoped>\n",
              "    .dataframe tbody tr th:only-of-type {\n",
              "        vertical-align: middle;\n",
              "    }\n",
              "\n",
              "    .dataframe tbody tr th {\n",
              "        vertical-align: top;\n",
              "    }\n",
              "\n",
              "    .dataframe thead th {\n",
              "        text-align: right;\n",
              "    }\n",
              "</style>\n",
              "<table border=\"1\" class=\"dataframe\">\n",
              "  <thead>\n",
              "    <tr style=\"text-align: right;\">\n",
              "      <th></th>\n",
              "      <th>ID</th>\n",
              "      <th>Year_Birth</th>\n",
              "      <th>Education</th>\n",
              "      <th>Marital_Status</th>\n",
              "      <th>Income</th>\n",
              "      <th>Kidhome</th>\n",
              "      <th>Teenhome</th>\n",
              "      <th>Dt_Customer</th>\n",
              "      <th>Recency</th>\n",
              "      <th>MntWines</th>\n",
              "      <th>MntFruits</th>\n",
              "      <th>MntMeatProducts</th>\n",
              "      <th>MntFishProducts</th>\n",
              "      <th>MntSweetProducts</th>\n",
              "      <th>MntGoldProds</th>\n",
              "      <th>NumWebPurchases</th>\n",
              "      <th>NumCatalogPurchases</th>\n",
              "      <th>NumStorePurchases</th>\n",
              "      <th>Age</th>\n",
              "    </tr>\n",
              "  </thead>\n",
              "  <tbody>\n",
              "    <tr>\n",
              "      <th>239</th>\n",
              "      <td>11004</td>\n",
              "      <td>1893</td>\n",
              "      <td>2n Cycle</td>\n",
              "      <td>Single</td>\n",
              "      <td>60182.0</td>\n",
              "      <td>0</td>\n",
              "      <td>1</td>\n",
              "      <td>17/05/2014</td>\n",
              "      <td>23</td>\n",
              "      <td>8</td>\n",
              "      <td>0</td>\n",
              "      <td>5</td>\n",
              "      <td>7</td>\n",
              "      <td>0</td>\n",
              "      <td>2</td>\n",
              "      <td>1</td>\n",
              "      <td>0</td>\n",
              "      <td>2</td>\n",
              "      <td>128</td>\n",
              "    </tr>\n",
              "    <tr>\n",
              "      <th>339</th>\n",
              "      <td>1150</td>\n",
              "      <td>1899</td>\n",
              "      <td>PhD</td>\n",
              "      <td>Together</td>\n",
              "      <td>83532.0</td>\n",
              "      <td>0</td>\n",
              "      <td>0</td>\n",
              "      <td>26/09/2013</td>\n",
              "      <td>36</td>\n",
              "      <td>755</td>\n",
              "      <td>144</td>\n",
              "      <td>562</td>\n",
              "      <td>104</td>\n",
              "      <td>64</td>\n",
              "      <td>224</td>\n",
              "      <td>4</td>\n",
              "      <td>6</td>\n",
              "      <td>4</td>\n",
              "      <td>122</td>\n",
              "    </tr>\n",
              "    <tr>\n",
              "      <th>192</th>\n",
              "      <td>7829</td>\n",
              "      <td>1900</td>\n",
              "      <td>2n Cycle</td>\n",
              "      <td>Divorced</td>\n",
              "      <td>36640.0</td>\n",
              "      <td>1</td>\n",
              "      <td>0</td>\n",
              "      <td>26/09/2013</td>\n",
              "      <td>99</td>\n",
              "      <td>15</td>\n",
              "      <td>6</td>\n",
              "      <td>8</td>\n",
              "      <td>7</td>\n",
              "      <td>4</td>\n",
              "      <td>25</td>\n",
              "      <td>2</td>\n",
              "      <td>1</td>\n",
              "      <td>2</td>\n",
              "      <td>121</td>\n",
              "    </tr>\n",
              "    <tr>\n",
              "      <th>1950</th>\n",
              "      <td>6663</td>\n",
              "      <td>1940</td>\n",
              "      <td>PhD</td>\n",
              "      <td>Single</td>\n",
              "      <td>51141.0</td>\n",
              "      <td>0</td>\n",
              "      <td>0</td>\n",
              "      <td>08/07/2013</td>\n",
              "      <td>96</td>\n",
              "      <td>144</td>\n",
              "      <td>0</td>\n",
              "      <td>7</td>\n",
              "      <td>0</td>\n",
              "      <td>0</td>\n",
              "      <td>6</td>\n",
              "      <td>3</td>\n",
              "      <td>1</td>\n",
              "      <td>4</td>\n",
              "      <td>81</td>\n",
              "    </tr>\n",
              "    <tr>\n",
              "      <th>424</th>\n",
              "      <td>6932</td>\n",
              "      <td>1941</td>\n",
              "      <td>PhD</td>\n",
              "      <td>Married</td>\n",
              "      <td>93027.0</td>\n",
              "      <td>0</td>\n",
              "      <td>0</td>\n",
              "      <td>13/04/2013</td>\n",
              "      <td>77</td>\n",
              "      <td>1285</td>\n",
              "      <td>42</td>\n",
              "      <td>716</td>\n",
              "      <td>55</td>\n",
              "      <td>0</td>\n",
              "      <td>21</td>\n",
              "      <td>7</td>\n",
              "      <td>10</td>\n",
              "      <td>5</td>\n",
              "      <td>80</td>\n",
              "    </tr>\n",
              "  </tbody>\n",
              "</table>\n",
              "</div>"
            ],
            "text/plain": [
              "         ID  Year_Birth Education  ... NumCatalogPurchases  NumStorePurchases  Age\n",
              "239   11004        1893  2n Cycle  ...                   0                  2  128\n",
              "339    1150        1899       PhD  ...                   6                  4  122\n",
              "192    7829        1900  2n Cycle  ...                   1                  2  121\n",
              "1950   6663        1940       PhD  ...                   1                  4   81\n",
              "424    6932        1941       PhD  ...                  10                  5   80\n",
              "\n",
              "[5 rows x 19 columns]"
            ]
          },
          "metadata": {},
          "execution_count": 119
        }
      ]
    },
    {
      "cell_type": "markdown",
      "metadata": {
        "id": "I3ByB_jZP2Q7"
      },
      "source": [
        "De aquí podemos observar que existen 3 personas con edades arriba de los 100 años lo que es demasiado extraño por lo que serán eliminados de la información"
      ]
    },
    {
      "cell_type": "code",
      "metadata": {
        "colab": {
          "base_uri": "https://localhost:8080/",
          "height": 439
        },
        "id": "VdPeYhroQITE",
        "outputId": "2ecef6d6-4573-459b-bae4-8d1364b901ba"
      },
      "source": [
        "dc_cleaned.drop([239,339,192], axis=0) #Aquí eliminaremos la información de estas personas"
      ],
      "execution_count": null,
      "outputs": [
        {
          "output_type": "execute_result",
          "data": {
            "text/html": [
              "<div>\n",
              "<style scoped>\n",
              "    .dataframe tbody tr th:only-of-type {\n",
              "        vertical-align: middle;\n",
              "    }\n",
              "\n",
              "    .dataframe tbody tr th {\n",
              "        vertical-align: top;\n",
              "    }\n",
              "\n",
              "    .dataframe thead th {\n",
              "        text-align: right;\n",
              "    }\n",
              "</style>\n",
              "<table border=\"1\" class=\"dataframe\">\n",
              "  <thead>\n",
              "    <tr style=\"text-align: right;\">\n",
              "      <th></th>\n",
              "      <th>ID</th>\n",
              "      <th>Year_Birth</th>\n",
              "      <th>Education</th>\n",
              "      <th>Marital_Status</th>\n",
              "      <th>Income</th>\n",
              "      <th>Kidhome</th>\n",
              "      <th>Teenhome</th>\n",
              "      <th>Dt_Customer</th>\n",
              "      <th>Recency</th>\n",
              "      <th>MntWines</th>\n",
              "      <th>MntFruits</th>\n",
              "      <th>MntMeatProducts</th>\n",
              "      <th>MntFishProducts</th>\n",
              "      <th>MntSweetProducts</th>\n",
              "      <th>MntGoldProds</th>\n",
              "      <th>NumWebPurchases</th>\n",
              "      <th>NumCatalogPurchases</th>\n",
              "      <th>NumStorePurchases</th>\n",
              "      <th>Age</th>\n",
              "    </tr>\n",
              "  </thead>\n",
              "  <tbody>\n",
              "    <tr>\n",
              "      <th>0</th>\n",
              "      <td>5524</td>\n",
              "      <td>1957</td>\n",
              "      <td>Graduation</td>\n",
              "      <td>Single</td>\n",
              "      <td>58138.0</td>\n",
              "      <td>0</td>\n",
              "      <td>0</td>\n",
              "      <td>04/09/2012</td>\n",
              "      <td>58</td>\n",
              "      <td>635</td>\n",
              "      <td>88</td>\n",
              "      <td>546</td>\n",
              "      <td>172</td>\n",
              "      <td>88</td>\n",
              "      <td>88</td>\n",
              "      <td>8</td>\n",
              "      <td>10</td>\n",
              "      <td>4</td>\n",
              "      <td>64</td>\n",
              "    </tr>\n",
              "    <tr>\n",
              "      <th>1</th>\n",
              "      <td>2174</td>\n",
              "      <td>1954</td>\n",
              "      <td>Graduation</td>\n",
              "      <td>Single</td>\n",
              "      <td>46344.0</td>\n",
              "      <td>1</td>\n",
              "      <td>1</td>\n",
              "      <td>08/03/2014</td>\n",
              "      <td>38</td>\n",
              "      <td>11</td>\n",
              "      <td>1</td>\n",
              "      <td>6</td>\n",
              "      <td>2</td>\n",
              "      <td>1</td>\n",
              "      <td>6</td>\n",
              "      <td>1</td>\n",
              "      <td>1</td>\n",
              "      <td>2</td>\n",
              "      <td>67</td>\n",
              "    </tr>\n",
              "    <tr>\n",
              "      <th>2</th>\n",
              "      <td>4141</td>\n",
              "      <td>1965</td>\n",
              "      <td>Graduation</td>\n",
              "      <td>Together</td>\n",
              "      <td>71613.0</td>\n",
              "      <td>0</td>\n",
              "      <td>0</td>\n",
              "      <td>21/08/2013</td>\n",
              "      <td>26</td>\n",
              "      <td>426</td>\n",
              "      <td>49</td>\n",
              "      <td>127</td>\n",
              "      <td>111</td>\n",
              "      <td>21</td>\n",
              "      <td>42</td>\n",
              "      <td>8</td>\n",
              "      <td>2</td>\n",
              "      <td>10</td>\n",
              "      <td>56</td>\n",
              "    </tr>\n",
              "    <tr>\n",
              "      <th>3</th>\n",
              "      <td>6182</td>\n",
              "      <td>1984</td>\n",
              "      <td>Graduation</td>\n",
              "      <td>Together</td>\n",
              "      <td>26646.0</td>\n",
              "      <td>1</td>\n",
              "      <td>0</td>\n",
              "      <td>10/02/2014</td>\n",
              "      <td>26</td>\n",
              "      <td>11</td>\n",
              "      <td>4</td>\n",
              "      <td>20</td>\n",
              "      <td>10</td>\n",
              "      <td>3</td>\n",
              "      <td>5</td>\n",
              "      <td>2</td>\n",
              "      <td>0</td>\n",
              "      <td>4</td>\n",
              "      <td>37</td>\n",
              "    </tr>\n",
              "    <tr>\n",
              "      <th>4</th>\n",
              "      <td>5324</td>\n",
              "      <td>1981</td>\n",
              "      <td>PhD</td>\n",
              "      <td>Married</td>\n",
              "      <td>58293.0</td>\n",
              "      <td>1</td>\n",
              "      <td>0</td>\n",
              "      <td>19/01/2014</td>\n",
              "      <td>94</td>\n",
              "      <td>173</td>\n",
              "      <td>43</td>\n",
              "      <td>118</td>\n",
              "      <td>46</td>\n",
              "      <td>27</td>\n",
              "      <td>15</td>\n",
              "      <td>5</td>\n",
              "      <td>3</td>\n",
              "      <td>6</td>\n",
              "      <td>40</td>\n",
              "    </tr>\n",
              "    <tr>\n",
              "      <th>...</th>\n",
              "      <td>...</td>\n",
              "      <td>...</td>\n",
              "      <td>...</td>\n",
              "      <td>...</td>\n",
              "      <td>...</td>\n",
              "      <td>...</td>\n",
              "      <td>...</td>\n",
              "      <td>...</td>\n",
              "      <td>...</td>\n",
              "      <td>...</td>\n",
              "      <td>...</td>\n",
              "      <td>...</td>\n",
              "      <td>...</td>\n",
              "      <td>...</td>\n",
              "      <td>...</td>\n",
              "      <td>...</td>\n",
              "      <td>...</td>\n",
              "      <td>...</td>\n",
              "      <td>...</td>\n",
              "    </tr>\n",
              "    <tr>\n",
              "      <th>2235</th>\n",
              "      <td>10870</td>\n",
              "      <td>1967</td>\n",
              "      <td>Graduation</td>\n",
              "      <td>Married</td>\n",
              "      <td>61223.0</td>\n",
              "      <td>0</td>\n",
              "      <td>1</td>\n",
              "      <td>13/06/2013</td>\n",
              "      <td>46</td>\n",
              "      <td>709</td>\n",
              "      <td>43</td>\n",
              "      <td>182</td>\n",
              "      <td>42</td>\n",
              "      <td>118</td>\n",
              "      <td>247</td>\n",
              "      <td>9</td>\n",
              "      <td>3</td>\n",
              "      <td>4</td>\n",
              "      <td>54</td>\n",
              "    </tr>\n",
              "    <tr>\n",
              "      <th>2236</th>\n",
              "      <td>4001</td>\n",
              "      <td>1946</td>\n",
              "      <td>PhD</td>\n",
              "      <td>Together</td>\n",
              "      <td>64014.0</td>\n",
              "      <td>2</td>\n",
              "      <td>1</td>\n",
              "      <td>10/06/2014</td>\n",
              "      <td>56</td>\n",
              "      <td>406</td>\n",
              "      <td>0</td>\n",
              "      <td>30</td>\n",
              "      <td>0</td>\n",
              "      <td>0</td>\n",
              "      <td>8</td>\n",
              "      <td>8</td>\n",
              "      <td>2</td>\n",
              "      <td>5</td>\n",
              "      <td>75</td>\n",
              "    </tr>\n",
              "    <tr>\n",
              "      <th>2237</th>\n",
              "      <td>7270</td>\n",
              "      <td>1981</td>\n",
              "      <td>Graduation</td>\n",
              "      <td>Divorced</td>\n",
              "      <td>56981.0</td>\n",
              "      <td>0</td>\n",
              "      <td>0</td>\n",
              "      <td>25/01/2014</td>\n",
              "      <td>91</td>\n",
              "      <td>908</td>\n",
              "      <td>48</td>\n",
              "      <td>217</td>\n",
              "      <td>32</td>\n",
              "      <td>12</td>\n",
              "      <td>24</td>\n",
              "      <td>2</td>\n",
              "      <td>3</td>\n",
              "      <td>13</td>\n",
              "      <td>40</td>\n",
              "    </tr>\n",
              "    <tr>\n",
              "      <th>2238</th>\n",
              "      <td>8235</td>\n",
              "      <td>1956</td>\n",
              "      <td>Master</td>\n",
              "      <td>Together</td>\n",
              "      <td>69245.0</td>\n",
              "      <td>0</td>\n",
              "      <td>1</td>\n",
              "      <td>24/01/2014</td>\n",
              "      <td>8</td>\n",
              "      <td>428</td>\n",
              "      <td>30</td>\n",
              "      <td>214</td>\n",
              "      <td>80</td>\n",
              "      <td>30</td>\n",
              "      <td>61</td>\n",
              "      <td>6</td>\n",
              "      <td>5</td>\n",
              "      <td>10</td>\n",
              "      <td>65</td>\n",
              "    </tr>\n",
              "    <tr>\n",
              "      <th>2239</th>\n",
              "      <td>9405</td>\n",
              "      <td>1954</td>\n",
              "      <td>PhD</td>\n",
              "      <td>Married</td>\n",
              "      <td>52869.0</td>\n",
              "      <td>1</td>\n",
              "      <td>1</td>\n",
              "      <td>15/10/2012</td>\n",
              "      <td>40</td>\n",
              "      <td>84</td>\n",
              "      <td>3</td>\n",
              "      <td>61</td>\n",
              "      <td>2</td>\n",
              "      <td>1</td>\n",
              "      <td>21</td>\n",
              "      <td>3</td>\n",
              "      <td>1</td>\n",
              "      <td>4</td>\n",
              "      <td>67</td>\n",
              "    </tr>\n",
              "  </tbody>\n",
              "</table>\n",
              "<p>2213 rows × 19 columns</p>\n",
              "</div>"
            ],
            "text/plain": [
              "         ID  Year_Birth  ... NumStorePurchases Age\n",
              "0      5524        1957  ...                 4  64\n",
              "1      2174        1954  ...                 2  67\n",
              "2      4141        1965  ...                10  56\n",
              "3      6182        1984  ...                 4  37\n",
              "4      5324        1981  ...                 6  40\n",
              "...     ...         ...  ...               ...  ..\n",
              "2235  10870        1967  ...                 4  54\n",
              "2236   4001        1946  ...                 5  75\n",
              "2237   7270        1981  ...                13  40\n",
              "2238   8235        1956  ...                10  65\n",
              "2239   9405        1954  ...                 4  67\n",
              "\n",
              "[2213 rows x 19 columns]"
            ]
          },
          "metadata": {},
          "execution_count": 120
        }
      ]
    },
    {
      "cell_type": "code",
      "metadata": {
        "id": "QHiJCOuJ2Xz_"
      },
      "source": [
        ""
      ],
      "execution_count": null,
      "outputs": []
    },
    {
      "cell_type": "markdown",
      "metadata": {
        "id": "MGaHNDiybQmt"
      },
      "source": [
        "Ahora vamos a cambiar el nombre de las columnas para un mejor entendimiento"
      ]
    },
    {
      "cell_type": "code",
      "metadata": {
        "colab": {
          "base_uri": "https://localhost:8080/"
        },
        "id": "gcpKMZSMIy2k",
        "outputId": "39c6fa3c-d410-44ef-e934-2f30b5c791c1"
      },
      "source": [
        "dcEsp=dc_cleaned.rename(columns\n",
        "          = {'Year_Birth': 'Año_de_Nac','Education':'Educación','Marital_Status':'Estado Civil','Income':'Ingreso Anual','Kidhome':'Niños en casa','Teenhome':'Adolescentes en casa','Dt_Customer':'Fecha de inscripción a la empresa','Recency':'#Dias desde la ult compra','MntWines':'Gasto en Vino','MntFruits':'Gasto en Fruta','MntMeatProducts':'Gasto en Carne','MntFishProducts':'Gasto en Pescado','MntSweetProducts':'Gasto en Dulces','MntGoldProds':'Gasto en Oro','NumWebPurchases':'#Compras en Linea','NumCatalogPurchases':'#Compras por Catálogo','NumStorePurchases':'#Compras en Tienda','Age':'Edad'})\n",
        "print(dcEsp)"
      ],
      "execution_count": null,
      "outputs": [
        {
          "output_type": "stream",
          "name": "stdout",
          "text": [
            "         ID  Año_de_Nac  ... #Compras en Tienda Edad\n",
            "0      5524        1957  ...                  4   64\n",
            "1      2174        1954  ...                  2   67\n",
            "2      4141        1965  ...                 10   56\n",
            "3      6182        1984  ...                  4   37\n",
            "4      5324        1981  ...                  6   40\n",
            "...     ...         ...  ...                ...  ...\n",
            "2235  10870        1967  ...                  4   54\n",
            "2236   4001        1946  ...                  5   75\n",
            "2237   7270        1981  ...                 13   40\n",
            "2238   8235        1956  ...                 10   65\n",
            "2239   9405        1954  ...                  4   67\n",
            "\n",
            "[2216 rows x 19 columns]\n"
          ]
        }
      ]
    },
    {
      "cell_type": "markdown",
      "metadata": {
        "id": "2Zf1gjy4bdWj"
      },
      "source": [
        "***Guardar otros archivos con agrupaciones.***"
      ]
    },
    {
      "cell_type": "code",
      "metadata": {
        "id": "7Jca5qgNJsu8",
        "colab": {
          "base_uri": "https://localhost:8080/"
        },
        "outputId": "cb8f4044-9c6f-4af3-9699-c34baa0546c8"
      },
      "source": [
        "Edad= dcEsp[dcEsp['Edad']==50]\n",
        "Edad.to_csv('Solo_Clientesde50años.csv', index=False)\n",
        "print(Edad) #Aquí agrupamos a las personas de 50 años"
      ],
      "execution_count": null,
      "outputs": [
        {
          "output_type": "stream",
          "name": "stdout",
          "text": [
            "         ID  Año_de_Nac  ... #Compras en Tienda Edad\n",
            "6       965        1971  ...                  7   50\n",
            "65     8082        1971  ...                  2   50\n",
            "232    1606        1971  ...                  2   50\n",
            "242   10735        1971  ...                  2   50\n",
            "293    4927        1971  ...                  3   50\n",
            "...     ...         ...  ...                ...  ...\n",
            "2119   6147        1971  ...                  2   50\n",
            "2141   9216        1971  ...                  3   50\n",
            "2146   1818        1971  ...                  2   50\n",
            "2178   4377        1971  ...                  3   50\n",
            "2191   2656        1971  ...                  2   50\n",
            "\n",
            "[86 rows x 19 columns]\n"
          ]
        }
      ]
    },
    {
      "cell_type": "markdown",
      "metadata": {
        "id": "vIu9WF1B79Ln"
      },
      "source": [
        "***Responder las preguntas de interés.***"
      ]
    },
    {
      "cell_type": "markdown",
      "metadata": {
        "id": "mzWLGliK8C9H"
      },
      "source": [
        "¿Para qué me puede servir estas agrupaciones? \n",
        "Para poder separar en subgrupos los datos dependiendo de cómo lo deseemos analizar en el proceso"
      ]
    },
    {
      "cell_type": "markdown",
      "metadata": {
        "id": "L5RFa25C-Abq"
      },
      "source": [
        "___________________________________________________________________________"
      ]
    },
    {
      "cell_type": "markdown",
      "metadata": {
        "id": "rbq0PvB6qPdm"
      },
      "source": [
        "**1) Titulo de la base de datos secundaria**\n",
        "\n",
        "Nombre con el que se encuentra en la pagina encontrada:\n",
        "\n",
        "* Heart Failure Prediction \n",
        "\n",
        "URL:\n",
        "* https://www.kaggle.com/andrewmvd/heart-failure-clinical-data  \n",
        "\n",
        "\n",
        "**2) Introducción General**\n",
        "\n",
        "Las enfermedades cardiovasculares (ECV) son la principal causa de muerte a nivel mundial, cobrando un estimado de 17,9 millones de vidas cada año, lo que representa el 31% de todas las muertes en todo el mundo.La insuficiencia cardíaca es un evento común causado por las enfermedades cardiovasculares y este conjunto de datos contiene 12 características que pueden usarse para predecir la mortalidad por insuficiencia cardíaca.\n",
        "\n",
        "La mayoría de las enfermedades cardiovasculares se pueden prevenir abordando los factores de riesgo conductuales como el consumo de tabaco, las dietas malsanas y la obesidad, la inactividad física y el consumo nocivo de alcohol utilizando estrategias para toda la población.\n",
        "\n",
        "**3) Descripción de los datos.**   \n",
        "\n",
        "Los tipos de datos que se pueden apreciar en esta base de datos son del tipo de gráficos y numéricos, cada uno marcando una característica particular de los pacientes que se involucran en este análisis.\n",
        "\n",
        "En las columnas podemos observar que describen ya sea el nivel de plaquetas que manejan los pacientes, su tipo de sexo de forma binaria, si padece de alguna enfermedad con números booleanos. Los datos se preservan de forma númerica para ser más sencilla su observación. \n",
        "\n",
        "**4) Justificación del uso de datos.**  \n",
        "\n",
        "El motivo que nos impulsó a hacer uso y practica de esta base de datos es que es de gran importancia y a la vez interesante, en cómo algunos factores en cierta cantidad de pacientes pueden ser repetitivos, y así poder prevenir y mejorar con tratamiento a tiempo y de forma adecuada.\n",
        "\n",
        "Es beneficioso trabajar con estos datos, ya que, a parte de ponernos en perspectiva a nosotros mismos comparandonos con los datros, podemos sacar provecho y sacar información importante que nos pueda ser de utilidad no solo para este proyecto si no también para futuro.\n",
        "\n",
        "**5) Objetivo final.**  \n",
        "\n",
        "Nuestro objetivo principal sería que el consultante pueda encontrar de froma más optima y rápida los datos que sean de su interes. Y sea que este quiera analizar algún patro en cierto rango de edad, o si se padece cierta enfermedad qué más podría ser capaz de adquirir, etc.\n",
        "\n",
        "Deseamos involucrar un filtrado para que el usuario introduzca la categoría o característica que sea de su interés en esta base, y así facilitarle la búsqueda de su informaicón.\n",
        "\n",
        "**6) Preguntas de interés.**\n",
        "\n",
        "*¿Qué enfermedades son más típicas a los 20's?*  \n",
        "*Si tengo nivel bajo de plaquetas, ¿qué enfermedad puedo contraer?*\n",
        "\n",
        "**7) Parte de programación.**  \n"
      ]
    },
    {
      "cell_type": "markdown",
      "metadata": {
        "id": "Xv7V_yLk7mLb"
      },
      "source": [
        "**Importar base de datos**"
      ]
    },
    {
      "cell_type": "code",
      "metadata": {
        "colab": {
          "base_uri": "https://localhost:8080/"
        },
        "id": "GnwMweYyq5Vj",
        "outputId": "536c3432-50de-4826-c308-5c2c4cfbb9fc"
      },
      "source": [
        "import pandas as pd\n",
        "import numpy as np\n",
        "import json\n",
        "df = pd.read_csv(\"heart_failure_clinical_records_dataset.csv\")\n",
        "print(df)\n"
      ],
      "execution_count": null,
      "outputs": [
        {
          "output_type": "stream",
          "name": "stdout",
          "text": [
            "      age  anaemia  creatinine_phosphokinase  ...  smoking  time  DEATH_EVENT\n",
            "0    75.0        0                       582  ...        0     4            1\n",
            "1    55.0        0                      7861  ...        0     6            1\n",
            "2    65.0        0                       146  ...        1     7            1\n",
            "3    50.0        1                       111  ...        0     7            1\n",
            "4    65.0        1                       160  ...        0     8            1\n",
            "..    ...      ...                       ...  ...      ...   ...          ...\n",
            "294  62.0        0                        61  ...        1   270            0\n",
            "295  55.0        0                      1820  ...        0   271            0\n",
            "296  45.0        0                      2060  ...        0   278            0\n",
            "297  45.0        0                      2413  ...        1   280            0\n",
            "298  50.0        0                       196  ...        1   285            0\n",
            "\n",
            "[299 rows x 13 columns]\n"
          ]
        }
      ]
    },
    {
      "cell_type": "markdown",
      "metadata": {
        "id": "OZ1K2c5Q7tRb"
      },
      "source": [
        "**Visualización de los datos**"
      ]
    },
    {
      "cell_type": "code",
      "metadata": {
        "colab": {
          "base_uri": "https://localhost:8080/"
        },
        "id": "C7nFSUr97gbi",
        "outputId": "68ef8191-983b-4716-f9c3-825f797cfde6"
      },
      "source": [
        "a2 = df.shape\n",
        "print(\"Esta base de datos es de:\",a2)"
      ],
      "execution_count": null,
      "outputs": [
        {
          "output_type": "stream",
          "name": "stdout",
          "text": [
            "Esta base de datos es de: (299, 13)\n"
          ]
        }
      ]
    },
    {
      "cell_type": "code",
      "metadata": {
        "colab": {
          "base_uri": "https://localhost:8080/"
        },
        "id": "9km_o41c8L98",
        "outputId": "5ba6fe03-3c49-4cd2-ed30-b87895c8e1c5"
      },
      "source": [
        "b2 = df.columns\n",
        "print(\"La base de datos tiene columnas llamadas:\",b2)"
      ],
      "execution_count": null,
      "outputs": [
        {
          "output_type": "stream",
          "name": "stdout",
          "text": [
            "La base de datos tiene columnas llamadas: Index(['age', 'anaemia', 'creatinine_phosphokinase', 'diabetes',\n",
            "       'ejection_fraction', 'high_blood_pressure', 'platelets',\n",
            "       'serum_creatinine', 'serum_sodium', 'sex', 'smoking', 'time',\n",
            "       'DEATH_EVENT'],\n",
            "      dtype='object')\n"
          ]
        }
      ]
    },
    {
      "cell_type": "code",
      "metadata": {
        "colab": {
          "base_uri": "https://localhost:8080/"
        },
        "id": "YW-N346l8TW6",
        "outputId": "c229b50a-cb6b-4b4b-fb6b-74be04582c26"
      },
      "source": [
        "c2 = df.isnull().sum()\n",
        "print(\"Evidencia de que hay o no hay numeros nulos\",c2)"
      ],
      "execution_count": null,
      "outputs": [
        {
          "output_type": "stream",
          "name": "stdout",
          "text": [
            "Evidencia de que hay o no hay numeros nulos age                         0\n",
            "anaemia                     0\n",
            "creatinine_phosphokinase    0\n",
            "diabetes                    0\n",
            "ejection_fraction           0\n",
            "high_blood_pressure         0\n",
            "platelets                   0\n",
            "serum_creatinine            0\n",
            "serum_sodium                0\n",
            "sex                         0\n",
            "smoking                     0\n",
            "time                        0\n",
            "DEATH_EVENT                 0\n",
            "dtype: int64\n"
          ]
        }
      ]
    },
    {
      "cell_type": "markdown",
      "metadata": {
        "id": "64pBnbn1BArP"
      },
      "source": [
        "**Tipo de dato de cada columna.**"
      ]
    },
    {
      "cell_type": "code",
      "metadata": {
        "colab": {
          "base_uri": "https://localhost:8080/"
        },
        "id": "Qb_IZNfIA6mC",
        "outputId": "c13e981a-3074-4207-ce0f-a9c2c8755686"
      },
      "source": [
        "df.dtypes"
      ],
      "execution_count": null,
      "outputs": [
        {
          "output_type": "execute_result",
          "data": {
            "text/plain": [
              "age                         float64\n",
              "anaemia                       int64\n",
              "creatinine_phosphokinase      int64\n",
              "diabetes                      int64\n",
              "ejection_fraction             int64\n",
              "high_blood_pressure           int64\n",
              "platelets                   float64\n",
              "serum_creatinine            float64\n",
              "serum_sodium                  int64\n",
              "sex                           int64\n",
              "smoking                       int64\n",
              "time                          int64\n",
              "DEATH_EVENT                   int64\n",
              "dtype: object"
            ]
          },
          "metadata": {},
          "execution_count": 5
        }
      ]
    }
  ]
}